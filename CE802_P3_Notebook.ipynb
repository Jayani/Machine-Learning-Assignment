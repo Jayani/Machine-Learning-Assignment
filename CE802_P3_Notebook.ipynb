{
 "cells": [
  {
   "cell_type": "markdown",
   "metadata": {},
   "source": [
    "# 3 a) : Investigate the performance of a number of machine learning procedures on this dataset.\n",
    "    \n",
    "### Introduction\n",
    "\n",
    "The objective of this notebook is to find the amount of insurance claimed by a particular individial. We will use Regression Techniques to get the intended results.\n",
    "\n",
    "### Observations\n",
    "\n",
    "We can see that the data contains both Categorical and Numeric features. The given data doesn't contain any missing values."
   ]
  },
  {
   "cell_type": "markdown",
   "metadata": {},
   "source": [
    "#### Import Library"
   ]
  },
  {
   "cell_type": "code",
   "execution_count": 1,
   "metadata": {},
   "outputs": [],
   "source": [
    "import pandas as pd\n",
    "import matplotlib.pyplot as plt\n",
    "import seaborn as sns\n",
    "import numpy as np"
   ]
  },
  {
   "cell_type": "markdown",
   "metadata": {},
   "source": [
    "#### Load DataSet"
   ]
  },
  {
   "cell_type": "code",
   "execution_count": 2,
   "metadata": {},
   "outputs": [
    {
     "data": {
      "text/html": [
       "<div>\n",
       "<style scoped>\n",
       "    .dataframe tbody tr th:only-of-type {\n",
       "        vertical-align: middle;\n",
       "    }\n",
       "\n",
       "    .dataframe tbody tr th {\n",
       "        vertical-align: top;\n",
       "    }\n",
       "\n",
       "    .dataframe thead th {\n",
       "        text-align: right;\n",
       "    }\n",
       "</style>\n",
       "<table border=\"1\" class=\"dataframe\">\n",
       "  <thead>\n",
       "    <tr style=\"text-align: right;\">\n",
       "      <th></th>\n",
       "      <th>F1</th>\n",
       "      <th>F2</th>\n",
       "      <th>F3</th>\n",
       "      <th>F4</th>\n",
       "      <th>F5</th>\n",
       "      <th>F6</th>\n",
       "      <th>F7</th>\n",
       "      <th>F8</th>\n",
       "      <th>F9</th>\n",
       "      <th>F10</th>\n",
       "      <th>F11</th>\n",
       "      <th>F12</th>\n",
       "      <th>F13</th>\n",
       "      <th>F14</th>\n",
       "      <th>F15</th>\n",
       "      <th>F16</th>\n",
       "      <th>Target</th>\n",
       "    </tr>\n",
       "  </thead>\n",
       "  <tbody>\n",
       "    <tr>\n",
       "      <th>0</th>\n",
       "      <td>16.56</td>\n",
       "      <td>12.42</td>\n",
       "      <td>-236.06</td>\n",
       "      <td>Rest</td>\n",
       "      <td>-98.88</td>\n",
       "      <td>529.56</td>\n",
       "      <td>4.54</td>\n",
       "      <td>379.54</td>\n",
       "      <td>1</td>\n",
       "      <td>1</td>\n",
       "      <td>7.30</td>\n",
       "      <td>High</td>\n",
       "      <td>-15085.87</td>\n",
       "      <td>-12.93</td>\n",
       "      <td>-39.42</td>\n",
       "      <td>1734.58</td>\n",
       "      <td>3616.82</td>\n",
       "    </tr>\n",
       "    <tr>\n",
       "      <th>1</th>\n",
       "      <td>11.72</td>\n",
       "      <td>12.46</td>\n",
       "      <td>-190.06</td>\n",
       "      <td>Rest</td>\n",
       "      <td>-59.22</td>\n",
       "      <td>493.11</td>\n",
       "      <td>0.05</td>\n",
       "      <td>402.78</td>\n",
       "      <td>5</td>\n",
       "      <td>3</td>\n",
       "      <td>-1.28</td>\n",
       "      <td>Very low</td>\n",
       "      <td>-15782.44</td>\n",
       "      <td>-8.55</td>\n",
       "      <td>-35.61</td>\n",
       "      <td>1672.70</td>\n",
       "      <td>3342.88</td>\n",
       "    </tr>\n",
       "    <tr>\n",
       "      <th>2</th>\n",
       "      <td>4.34</td>\n",
       "      <td>2.74</td>\n",
       "      <td>-201.20</td>\n",
       "      <td>UK</td>\n",
       "      <td>-228.48</td>\n",
       "      <td>563.79</td>\n",
       "      <td>1.22</td>\n",
       "      <td>147.35</td>\n",
       "      <td>4</td>\n",
       "      <td>4</td>\n",
       "      <td>8.28</td>\n",
       "      <td>Low</td>\n",
       "      <td>-10526.01</td>\n",
       "      <td>-9.66</td>\n",
       "      <td>-29.10</td>\n",
       "      <td>1462.86</td>\n",
       "      <td>0.00</td>\n",
       "    </tr>\n",
       "    <tr>\n",
       "      <th>3</th>\n",
       "      <td>12.76</td>\n",
       "      <td>2.58</td>\n",
       "      <td>-282.26</td>\n",
       "      <td>UK</td>\n",
       "      <td>-173.28</td>\n",
       "      <td>536.94</td>\n",
       "      <td>0.25</td>\n",
       "      <td>113.49</td>\n",
       "      <td>4</td>\n",
       "      <td>3</td>\n",
       "      <td>6.26</td>\n",
       "      <td>Low</td>\n",
       "      <td>-8327.14</td>\n",
       "      <td>-19.23</td>\n",
       "      <td>-34.59</td>\n",
       "      <td>809.46</td>\n",
       "      <td>1742.65</td>\n",
       "    </tr>\n",
       "    <tr>\n",
       "      <th>4</th>\n",
       "      <td>11.10</td>\n",
       "      <td>9.82</td>\n",
       "      <td>-242.86</td>\n",
       "      <td>USA</td>\n",
       "      <td>-193.14</td>\n",
       "      <td>617.52</td>\n",
       "      <td>9.15</td>\n",
       "      <td>343.64</td>\n",
       "      <td>8</td>\n",
       "      <td>6</td>\n",
       "      <td>-6.88</td>\n",
       "      <td>Very low</td>\n",
       "      <td>-14434.13</td>\n",
       "      <td>-9.45</td>\n",
       "      <td>-46.14</td>\n",
       "      <td>1435.90</td>\n",
       "      <td>373.56</td>\n",
       "    </tr>\n",
       "  </tbody>\n",
       "</table>\n",
       "</div>"
      ],
      "text/plain": [
       "      F1     F2      F3    F4      F5      F6    F7      F8  F9  F10   F11  \\\n",
       "0  16.56  12.42 -236.06  Rest  -98.88  529.56  4.54  379.54   1    1  7.30   \n",
       "1  11.72  12.46 -190.06  Rest  -59.22  493.11  0.05  402.78   5    3 -1.28   \n",
       "2   4.34   2.74 -201.20    UK -228.48  563.79  1.22  147.35   4    4  8.28   \n",
       "3  12.76   2.58 -282.26    UK -173.28  536.94  0.25  113.49   4    3  6.26   \n",
       "4  11.10   9.82 -242.86   USA -193.14  617.52  9.15  343.64   8    6 -6.88   \n",
       "\n",
       "        F12       F13    F14    F15      F16   Target  \n",
       "0      High -15085.87 -12.93 -39.42  1734.58  3616.82  \n",
       "1  Very low -15782.44  -8.55 -35.61  1672.70  3342.88  \n",
       "2       Low -10526.01  -9.66 -29.10  1462.86     0.00  \n",
       "3       Low  -8327.14 -19.23 -34.59   809.46  1742.65  \n",
       "4  Very low -14434.13  -9.45 -46.14  1435.90   373.56  "
      ]
     },
     "execution_count": 2,
     "metadata": {},
     "output_type": "execute_result"
    }
   ],
   "source": [
    "# making data frame from csv file\n",
    "data = pd.read_csv(\"D:\\\\Machine Learning\\CE802_P3_Data\\CE802_P3_Data.csv\")\n",
    "data.head()"
   ]
  },
  {
   "cell_type": "code",
   "execution_count": 3,
   "metadata": {},
   "outputs": [
    {
     "name": "stdout",
     "output_type": "stream",
     "text": [
      "<class 'pandas.core.frame.DataFrame'>\n",
      "RangeIndex: 1500 entries, 0 to 1499\n",
      "Data columns (total 17 columns):\n",
      " #   Column  Non-Null Count  Dtype  \n",
      "---  ------  --------------  -----  \n",
      " 0   F1      1500 non-null   float64\n",
      " 1   F2      1500 non-null   float64\n",
      " 2   F3      1500 non-null   float64\n",
      " 3   F4      1500 non-null   object \n",
      " 4   F5      1500 non-null   float64\n",
      " 5   F6      1500 non-null   float64\n",
      " 6   F7      1500 non-null   float64\n",
      " 7   F8      1500 non-null   float64\n",
      " 8   F9      1500 non-null   int64  \n",
      " 9   F10     1500 non-null   int64  \n",
      " 10  F11     1500 non-null   float64\n",
      " 11  F12     1500 non-null   object \n",
      " 12  F13     1500 non-null   float64\n",
      " 13  F14     1500 non-null   float64\n",
      " 14  F15     1500 non-null   float64\n",
      " 15  F16     1500 non-null   float64\n",
      " 16  Target  1500 non-null   float64\n",
      "dtypes: float64(13), int64(2), object(2)\n",
      "memory usage: 199.3+ KB\n"
     ]
    }
   ],
   "source": [
    "data.info()"
   ]
  },
  {
   "cell_type": "code",
   "execution_count": 4,
   "metadata": {},
   "outputs": [
    {
     "data": {
      "text/plain": [
       "Rest      407\n",
       "UK        380\n",
       "USA       360\n",
       "Europe    353\n",
       "Name: F4, dtype: int64"
      ]
     },
     "execution_count": 4,
     "metadata": {},
     "output_type": "execute_result"
    }
   ],
   "source": [
    "#There are 4 distinct categories.\n",
    "data['F4'].value_counts()"
   ]
  },
  {
   "cell_type": "code",
   "execution_count": 5,
   "metadata": {},
   "outputs": [
    {
     "data": {
      "text/plain": [
       "Very low     312\n",
       "Low          310\n",
       "High         301\n",
       "Very high    290\n",
       "Medium       287\n",
       "Name: F12, dtype: int64"
      ]
     },
     "execution_count": 5,
     "metadata": {},
     "output_type": "execute_result"
    }
   ],
   "source": [
    "#There are 5 distinct values.\n",
    "data['F12'].value_counts()"
   ]
  },
  {
   "cell_type": "code",
   "execution_count": 6,
   "metadata": {},
   "outputs": [],
   "source": [
    "#Using the get_dummies function to transform the categorical values to numeric.\n",
    "\n",
    "data=pd.get_dummies(data, columns=[\"F4\", \"F12\"],drop_first=True)"
   ]
  },
  {
   "cell_type": "code",
   "execution_count": 7,
   "metadata": {},
   "outputs": [],
   "source": [
    "data['TARGET']=data['Target']"
   ]
  },
  {
   "cell_type": "code",
   "execution_count": 8,
   "metadata": {},
   "outputs": [],
   "source": [
    "del data['Target']"
   ]
  },
  {
   "cell_type": "code",
   "execution_count": 9,
   "metadata": {},
   "outputs": [
    {
     "data": {
      "text/html": [
       "<div>\n",
       "<style scoped>\n",
       "    .dataframe tbody tr th:only-of-type {\n",
       "        vertical-align: middle;\n",
       "    }\n",
       "\n",
       "    .dataframe tbody tr th {\n",
       "        vertical-align: top;\n",
       "    }\n",
       "\n",
       "    .dataframe thead th {\n",
       "        text-align: right;\n",
       "    }\n",
       "</style>\n",
       "<table border=\"1\" class=\"dataframe\">\n",
       "  <thead>\n",
       "    <tr style=\"text-align: right;\">\n",
       "      <th></th>\n",
       "      <th>F1</th>\n",
       "      <th>F2</th>\n",
       "      <th>F3</th>\n",
       "      <th>F5</th>\n",
       "      <th>F6</th>\n",
       "      <th>F7</th>\n",
       "      <th>F8</th>\n",
       "      <th>F9</th>\n",
       "      <th>F10</th>\n",
       "      <th>F11</th>\n",
       "      <th>...</th>\n",
       "      <th>F15</th>\n",
       "      <th>F16</th>\n",
       "      <th>F4_Rest</th>\n",
       "      <th>F4_UK</th>\n",
       "      <th>F4_USA</th>\n",
       "      <th>F12_Low</th>\n",
       "      <th>F12_Medium</th>\n",
       "      <th>F12_Very high</th>\n",
       "      <th>F12_Very low</th>\n",
       "      <th>TARGET</th>\n",
       "    </tr>\n",
       "  </thead>\n",
       "  <tbody>\n",
       "    <tr>\n",
       "      <th>0</th>\n",
       "      <td>16.56</td>\n",
       "      <td>12.42</td>\n",
       "      <td>-236.06</td>\n",
       "      <td>-98.88</td>\n",
       "      <td>529.56</td>\n",
       "      <td>4.54</td>\n",
       "      <td>379.54</td>\n",
       "      <td>1</td>\n",
       "      <td>1</td>\n",
       "      <td>7.30</td>\n",
       "      <td>...</td>\n",
       "      <td>-39.42</td>\n",
       "      <td>1734.58</td>\n",
       "      <td>1</td>\n",
       "      <td>0</td>\n",
       "      <td>0</td>\n",
       "      <td>0</td>\n",
       "      <td>0</td>\n",
       "      <td>0</td>\n",
       "      <td>0</td>\n",
       "      <td>3616.82</td>\n",
       "    </tr>\n",
       "    <tr>\n",
       "      <th>1</th>\n",
       "      <td>11.72</td>\n",
       "      <td>12.46</td>\n",
       "      <td>-190.06</td>\n",
       "      <td>-59.22</td>\n",
       "      <td>493.11</td>\n",
       "      <td>0.05</td>\n",
       "      <td>402.78</td>\n",
       "      <td>5</td>\n",
       "      <td>3</td>\n",
       "      <td>-1.28</td>\n",
       "      <td>...</td>\n",
       "      <td>-35.61</td>\n",
       "      <td>1672.70</td>\n",
       "      <td>1</td>\n",
       "      <td>0</td>\n",
       "      <td>0</td>\n",
       "      <td>0</td>\n",
       "      <td>0</td>\n",
       "      <td>0</td>\n",
       "      <td>1</td>\n",
       "      <td>3342.88</td>\n",
       "    </tr>\n",
       "    <tr>\n",
       "      <th>2</th>\n",
       "      <td>4.34</td>\n",
       "      <td>2.74</td>\n",
       "      <td>-201.20</td>\n",
       "      <td>-228.48</td>\n",
       "      <td>563.79</td>\n",
       "      <td>1.22</td>\n",
       "      <td>147.35</td>\n",
       "      <td>4</td>\n",
       "      <td>4</td>\n",
       "      <td>8.28</td>\n",
       "      <td>...</td>\n",
       "      <td>-29.10</td>\n",
       "      <td>1462.86</td>\n",
       "      <td>0</td>\n",
       "      <td>1</td>\n",
       "      <td>0</td>\n",
       "      <td>1</td>\n",
       "      <td>0</td>\n",
       "      <td>0</td>\n",
       "      <td>0</td>\n",
       "      <td>0.00</td>\n",
       "    </tr>\n",
       "    <tr>\n",
       "      <th>3</th>\n",
       "      <td>12.76</td>\n",
       "      <td>2.58</td>\n",
       "      <td>-282.26</td>\n",
       "      <td>-173.28</td>\n",
       "      <td>536.94</td>\n",
       "      <td>0.25</td>\n",
       "      <td>113.49</td>\n",
       "      <td>4</td>\n",
       "      <td>3</td>\n",
       "      <td>6.26</td>\n",
       "      <td>...</td>\n",
       "      <td>-34.59</td>\n",
       "      <td>809.46</td>\n",
       "      <td>0</td>\n",
       "      <td>1</td>\n",
       "      <td>0</td>\n",
       "      <td>1</td>\n",
       "      <td>0</td>\n",
       "      <td>0</td>\n",
       "      <td>0</td>\n",
       "      <td>1742.65</td>\n",
       "    </tr>\n",
       "    <tr>\n",
       "      <th>4</th>\n",
       "      <td>11.10</td>\n",
       "      <td>9.82</td>\n",
       "      <td>-242.86</td>\n",
       "      <td>-193.14</td>\n",
       "      <td>617.52</td>\n",
       "      <td>9.15</td>\n",
       "      <td>343.64</td>\n",
       "      <td>8</td>\n",
       "      <td>6</td>\n",
       "      <td>-6.88</td>\n",
       "      <td>...</td>\n",
       "      <td>-46.14</td>\n",
       "      <td>1435.90</td>\n",
       "      <td>0</td>\n",
       "      <td>0</td>\n",
       "      <td>1</td>\n",
       "      <td>0</td>\n",
       "      <td>0</td>\n",
       "      <td>0</td>\n",
       "      <td>1</td>\n",
       "      <td>373.56</td>\n",
       "    </tr>\n",
       "  </tbody>\n",
       "</table>\n",
       "<p>5 rows × 22 columns</p>\n",
       "</div>"
      ],
      "text/plain": [
       "      F1     F2      F3      F5      F6    F7      F8  F9  F10   F11  ...  \\\n",
       "0  16.56  12.42 -236.06  -98.88  529.56  4.54  379.54   1    1  7.30  ...   \n",
       "1  11.72  12.46 -190.06  -59.22  493.11  0.05  402.78   5    3 -1.28  ...   \n",
       "2   4.34   2.74 -201.20 -228.48  563.79  1.22  147.35   4    4  8.28  ...   \n",
       "3  12.76   2.58 -282.26 -173.28  536.94  0.25  113.49   4    3  6.26  ...   \n",
       "4  11.10   9.82 -242.86 -193.14  617.52  9.15  343.64   8    6 -6.88  ...   \n",
       "\n",
       "     F15      F16  F4_Rest  F4_UK  F4_USA  F12_Low  F12_Medium  F12_Very high  \\\n",
       "0 -39.42  1734.58        1      0       0        0           0              0   \n",
       "1 -35.61  1672.70        1      0       0        0           0              0   \n",
       "2 -29.10  1462.86        0      1       0        1           0              0   \n",
       "3 -34.59   809.46        0      1       0        1           0              0   \n",
       "4 -46.14  1435.90        0      0       1        0           0              0   \n",
       "\n",
       "   F12_Very low   TARGET  \n",
       "0             0  3616.82  \n",
       "1             1  3342.88  \n",
       "2             0     0.00  \n",
       "3             0  1742.65  \n",
       "4             1   373.56  \n",
       "\n",
       "[5 rows x 22 columns]"
      ]
     },
     "execution_count": 9,
     "metadata": {},
     "output_type": "execute_result"
    }
   ],
   "source": [
    "data.head()"
   ]
  },
  {
   "cell_type": "markdown",
   "metadata": {},
   "source": [
    "#### Create X and Y Metrics"
   ]
  },
  {
   "cell_type": "code",
   "execution_count": 10,
   "metadata": {},
   "outputs": [],
   "source": [
    "x=data.drop(['TARGET'],axis='columns')\n",
    "y=data['TARGET']"
   ]
  },
  {
   "cell_type": "markdown",
   "metadata": {},
   "source": [
    "#### Data Split"
   ]
  },
  {
   "cell_type": "code",
   "execution_count": 11,
   "metadata": {},
   "outputs": [],
   "source": [
    "from sklearn.model_selection import train_test_split\n",
    "X_train, X_test, y_train,y_test = train_test_split(x, y, test_size=0.20, random_state=0)"
   ]
  },
  {
   "cell_type": "code",
   "execution_count": null,
   "metadata": {},
   "outputs": [],
   "source": [
    "from sklearn import preprocessing \n",
    "from sklearn.preprocessing import StandardScaler\n",
    "\n",
    "X_train=StandardScaler(with_mean=False).fit_transform(X_train)\n",
    "X_train.shape"
   ]
  },
  {
   "cell_type": "code",
   "execution_count": null,
   "metadata": {},
   "outputs": [],
   "source": [
    "X_test=StandardScaler(with_mean=False).fit_transform(X_test)\n",
    "X_test.shape"
   ]
  },
  {
   "cell_type": "markdown",
   "metadata": {},
   "source": [
    "#### Data Dimention"
   ]
  },
  {
   "cell_type": "code",
   "execution_count": 14,
   "metadata": {},
   "outputs": [
    {
     "data": {
      "text/plain": [
       "((1200, 21), (1200,))"
      ]
     },
     "execution_count": 14,
     "metadata": {},
     "output_type": "execute_result"
    }
   ],
   "source": [
    "X_train.shape, y_train.shape"
   ]
  },
  {
   "cell_type": "code",
   "execution_count": 15,
   "metadata": {},
   "outputs": [
    {
     "data": {
      "text/plain": [
       "((300, 21), (300,))"
      ]
     },
     "execution_count": 15,
     "metadata": {},
     "output_type": "execute_result"
    }
   ],
   "source": [
    "X_test.shape, y_test.shape"
   ]
  },
  {
   "cell_type": "markdown",
   "metadata": {},
   "source": [
    "# Linear Regression Model"
   ]
  },
  {
   "cell_type": "code",
   "execution_count": 16,
   "metadata": {},
   "outputs": [],
   "source": [
    "from sklearn import linear_model\n",
    "from sklearn.metrics import mean_squared_error, r2_score, mean_absolute_error"
   ]
  },
  {
   "cell_type": "markdown",
   "metadata": {},
   "source": [
    "##### Instantiate Linear Model Regresser"
   ]
  },
  {
   "cell_type": "code",
   "execution_count": 17,
   "metadata": {},
   "outputs": [],
   "source": [
    "model=linear_model.LinearRegression()"
   ]
  },
  {
   "cell_type": "markdown",
   "metadata": {},
   "source": [
    "##### Fit the Linear model to the training data"
   ]
  },
  {
   "cell_type": "code",
   "execution_count": 18,
   "metadata": {},
   "outputs": [
    {
     "name": "stdout",
     "output_type": "stream",
     "text": [
      "LinearRegression(copy_X=True, fit_intercept=True, n_jobs=None,\n",
      "         normalize=False)\n"
     ]
    }
   ],
   "source": [
    "model.fit(X_train,y_train)\n",
    "print(model)"
   ]
  },
  {
   "cell_type": "markdown",
   "metadata": {},
   "source": [
    "##### Do prediction using our test data"
   ]
  },
  {
   "cell_type": "code",
   "execution_count": 19,
   "metadata": {},
   "outputs": [],
   "source": [
    "y_pred=model.predict(X_test)"
   ]
  },
  {
   "cell_type": "code",
   "execution_count": 20,
   "metadata": {},
   "outputs": [
    {
     "data": {
      "text/plain": [
       "0.794089868408217"
      ]
     },
     "execution_count": 20,
     "metadata": {},
     "output_type": "execute_result"
    }
   ],
   "source": [
    "#The coefficient of R-Square\n",
    "model.score(X_train,y_train)"
   ]
  },
  {
   "cell_type": "markdown",
   "metadata": {},
   "source": [
    "#### Calculate the performance of Linear Model"
   ]
  },
  {
   "cell_type": "code",
   "execution_count": 21,
   "metadata": {
    "scrolled": true
   },
   "outputs": [
    {
     "name": "stdout",
     "output_type": "stream",
     "text": [
      "Coefficients: [ 365.21917218  379.63339477   -9.97560189  433.78525045   -5.33897195\n",
      "    5.11937939 -301.04004907  231.33009079 -240.30470326   10.42838007\n",
      "  -13.96622022  -15.23265128   -0.54807772 -258.6889933   249.59482974\n",
      "   72.84002241 -151.61681293 -129.07394936  -66.28226809   66.16697111\n",
      " -177.06567141]\n",
      "Intercept: 1736.6527021684274\n",
      "Mean Absolute Error (MAE) : 409.61\n",
      "Mean Squared Error (MSE) : 270126.09\n",
      "Coefficient of determination : 0.78\n",
      "Root Mean Squared Error: 519.7365558701076\n"
     ]
    }
   ],
   "source": [
    "print(\"Coefficients:\", model.coef_)\n",
    "print(\"Intercept:\",model.intercept_)\n",
    "print('Mean Absolute Error (MAE) : %.2f'% mean_absolute_error(y_test,y_pred))\n",
    "print('Mean Squared Error (MSE) : %.2f'%  mean_squared_error(y_test,y_pred))\n",
    "\n",
    "# The coefficient of determination: 1 is perfect prediction\n",
    "print('Coefficient of determination : %.2f'%  r2_score(y_test,y_pred))\n",
    "\n",
    "print(\"Root Mean Squared Error:\", np.sqrt(mean_squared_error(y_test, y_pred)))"
   ]
  },
  {
   "cell_type": "code",
   "execution_count": 22,
   "metadata": {},
   "outputs": [
    {
     "data": {
      "text/plain": [
       "471     1753.12\n",
       "9       1088.68\n",
       "1499       0.00\n",
       "54       456.27\n",
       "1411     599.04\n",
       "         ...   \n",
       "220       94.21\n",
       "946        0.00\n",
       "992      789.66\n",
       "1496    1528.48\n",
       "443     1230.70\n",
       "Name: TARGET, Length: 300, dtype: float64"
      ]
     },
     "execution_count": 22,
     "metadata": {},
     "output_type": "execute_result"
    }
   ],
   "source": [
    "y_test"
   ]
  },
  {
   "cell_type": "code",
   "execution_count": 23,
   "metadata": {},
   "outputs": [
    {
     "data": {
      "text/plain": [
       "array([ 1491.33845227,  1603.99055361,  -194.3795622 ,   653.15340717,\n",
       "        1267.11256251,  -938.91407561,   739.88886098, -1799.2179285 ,\n",
       "        1702.41256441,   -61.79158689,   766.69975096,   168.19195528,\n",
       "        1136.98879651,  1742.25347654,  2801.23116914,   978.59747836,\n",
       "         298.56411243,   403.47858899,   -55.97047371,  -124.71849813,\n",
       "        1002.3067824 ,  2873.94613199,  1149.94568614,  -232.88709314,\n",
       "        1384.58311758,  1158.98933818,  1375.91567001,   552.37929544,\n",
       "         508.68056829,  1100.12072659,  1023.29218989,   115.21899999,\n",
       "        2471.18976625,  1124.72686115,   -32.61674049,   593.46516726,\n",
       "        1251.13124735,  3230.00022198,   258.99093514, -1341.98415334,\n",
       "        1700.41932333,  1772.29038555,   734.5902719 ,  1846.54821892,\n",
       "       -1107.23991275,  1962.17165485, -1007.85695809,  -149.34189196,\n",
       "        1200.60489286,  1744.82333661,  1081.34578521,   517.96666696,\n",
       "        1585.12181767,    38.88887507,  1787.32626065,   693.06357448,\n",
       "        2435.03879604,  1526.69134714,   477.22913846,     6.27574441,\n",
       "         962.20130535,  2817.60095259,  2477.43851511,   775.66897406,\n",
       "         817.94502372,  1233.65618377,  1158.9589087 ,  -717.67360959,\n",
       "         206.63192456,  4287.52014527, -1043.99922046,   843.7961679 ,\n",
       "         798.13309328,   136.34824509,  2585.51336602,  1371.06898376,\n",
       "        1039.92503716,   860.08963195,  -419.10776365,  1252.1272001 ,\n",
       "        1998.53034539,  -167.90257785,   343.33611032,   709.41568137,\n",
       "        1556.68654046,  -301.97603234,    27.32229089,  -190.21976424,\n",
       "         415.72476475,  1637.41807622,  1140.20674252,  1451.89948166,\n",
       "        -733.33505079,  2033.46521364,   422.7831511 ,  1811.1109077 ,\n",
       "        2011.68307918,  1944.63579261,  1635.17891418,   628.63607737,\n",
       "         474.78472629,   563.83831233,   930.5570738 ,  -143.63669706,\n",
       "        1675.14474595,  2707.86955347,   491.81533818, -1191.72358374,\n",
       "         181.33417344,   652.97921917,  1524.28522934,   688.00487103,\n",
       "        1129.72350819,  -403.42873931,   148.04223147,   393.62950538,\n",
       "        1074.09384661,  2640.37583353,  1853.94349112,  1548.31088971,\n",
       "         345.15675039,  1882.3863864 ,   133.81131235,   947.72868963,\n",
       "         238.01972384,  1352.1830158 ,  1679.21992133,   666.35931654,\n",
       "         434.7792484 ,  -307.48231525,   364.26078826,   735.94397519,\n",
       "        2560.65493845,  1954.34223677,  2086.34175471,  1388.1040671 ,\n",
       "         120.04170845,  -323.89950427,  1392.78692547,   944.0579002 ,\n",
       "        2219.78672443,   659.24997562,   544.99873732,  -727.90893331,\n",
       "         769.42145101,  2110.0345482 ,  1848.26218345,   944.7228664 ,\n",
       "        1180.76254797,   399.39248659,  -106.74667398,  -156.09815481,\n",
       "         552.46228174,  1535.44270096,   430.02079424,   143.04222009,\n",
       "         533.22935337,   948.45602692,  1601.44354682,  1737.95739041,\n",
       "        1435.86125755,  -532.47357886,  2851.99734722,  1098.02456832,\n",
       "         552.39598613,  3535.20944923,   333.79947484,   832.48286173,\n",
       "        1947.07932769,  1281.02601075,   643.16733802,   414.18653059,\n",
       "         745.21548037,  2381.96438462,   282.25851528,  1693.441428  ,\n",
       "        1072.88570985,   861.88159328,  1366.20739592,  1132.61553013,\n",
       "        1892.88119482,   973.83794227,  1249.09363909,   215.37999663,\n",
       "        1689.31616941,   300.47027642,   -44.2452828 ,   600.32404514,\n",
       "        2090.71772711,  1599.47285877,  1162.17160872,  1566.7278175 ,\n",
       "           6.06526032,   946.23299868,  2599.06844783,   694.09045121,\n",
       "         956.24538238,  1617.13163404,  1484.94281697,  2911.90504507,\n",
       "         361.66327661,  2971.54931076,    -8.90027982,  1621.89481193,\n",
       "        2212.64045326,    62.68116017,   715.51353303,  1828.93256542,\n",
       "        1750.4850654 ,   -97.20387136,  1271.86960844,   512.25002896,\n",
       "        2322.30708439,  1305.9928055 ,  1340.61080228,   632.77488632,\n",
       "        1014.365624  ,  1775.15301573,   410.17295041,  1168.6643362 ,\n",
       "        -230.88598241,   332.53057151,   806.91860864,   554.15799191,\n",
       "         552.3055425 ,   367.73468135,  -499.31833572,  1685.37384555,\n",
       "        1013.00747751,  -460.69481091,  2304.44012982,   554.74179679,\n",
       "        2850.61520402,   854.18386692,  -596.70295486,   516.51407748,\n",
       "         513.87593576,  -631.82537904,   837.78775912,  2733.29433717,\n",
       "         844.42022814,   969.98418605,  1797.04474162,   123.28909272,\n",
       "         300.99466237,  1944.87256362,  -262.17948236,  1035.52935755,\n",
       "         551.75852919,   552.6409161 , -1255.83520266,  3144.47834017,\n",
       "        2679.69165863,  2451.58780341,   717.41784575,  -374.23069914,\n",
       "       -1300.64208671, -1451.82334175,  1143.63000011,   855.78674117,\n",
       "        1405.42513625,   583.559542  ,  2284.23296134,   637.1541254 ,\n",
       "         840.5770143 ,    69.13770409,   932.70710926,   998.69177759,\n",
       "         334.07151462,   429.95190017,  1660.180519  ,  2174.87884424,\n",
       "        1988.80577075,  1920.28403329,   498.22947637,  1241.78751458,\n",
       "        -266.41578402,   909.36115012,  2353.51074878,   878.29697188,\n",
       "        1040.42563752,  -868.31246149,  2672.73410734, -1369.48171326,\n",
       "        -687.92901622,  1885.78877496,   773.27108798,   318.041431  ,\n",
       "        2366.43392951,   941.9106547 ,   967.37680265,   507.04776375,\n",
       "        3188.78303162,  1524.63302189,  2065.97797588,    80.64064367,\n",
       "         720.55392739,  1294.13281623,  1301.90060556,  1376.52714849])"
      ]
     },
     "execution_count": 23,
     "metadata": {},
     "output_type": "execute_result"
    }
   ],
   "source": [
    "y_pred"
   ]
  },
  {
   "cell_type": "markdown",
   "metadata": {},
   "source": [
    "#### Scatter Plot"
   ]
  },
  {
   "cell_type": "code",
   "execution_count": 24,
   "metadata": {},
   "outputs": [
    {
     "data": {
      "image/png": "[encoded data removed]",
      "text/plain": [
       "<Figure size 432x288 with 1 Axes>"
      ]
     },
     "metadata": {
      "needs_background": "light"
     },
     "output_type": "display_data"
    }
   ],
   "source": [
    "plt.scatter(y_test, y_pred, alpha=0.5)    \n",
    "plt.show()   "
   ]
  },
  {
   "cell_type": "markdown",
   "metadata": {},
   "source": [
    "# Decision Tree Regressor"
   ]
  },
  {
   "cell_type": "code",
   "execution_count": 25,
   "metadata": {},
   "outputs": [],
   "source": [
    "from sklearn.tree import DecisionTreeRegressor"
   ]
  },
  {
   "cell_type": "markdown",
   "metadata": {},
   "source": [
    "###### Instantiate Decision Tree Regresser"
   ]
  },
  {
   "cell_type": "code",
   "execution_count": 26,
   "metadata": {},
   "outputs": [],
   "source": [
    "dtr = DecisionTreeRegressor(splitter='best',min_samples_split=28,max_depth=6,criterion='friedman_mse')"
   ]
  },
  {
   "cell_type": "markdown",
   "metadata": {},
   "source": [
    "##### Fit the Decision Tree to the training data"
   ]
  },
  {
   "cell_type": "code",
   "execution_count": 27,
   "metadata": {},
   "outputs": [
    {
     "data": {
      "text/plain": [
       "DecisionTreeRegressor(criterion='friedman_mse', max_depth=6,\n",
       "           max_features=None, max_leaf_nodes=None,\n",
       "           min_impurity_decrease=0.0, min_impurity_split=None,\n",
       "           min_samples_leaf=1, min_samples_split=28,\n",
       "           min_weight_fraction_leaf=0.0, presort=False, random_state=None,\n",
       "           splitter='best')"
      ]
     },
     "execution_count": 27,
     "metadata": {},
     "output_type": "execute_result"
    }
   ],
   "source": [
    "dtr.fit(X_train,y_train)"
   ]
  },
  {
   "cell_type": "code",
   "execution_count": 28,
   "metadata": {},
   "outputs": [
    {
     "data": {
      "text/plain": [
       "0.6700264276881002"
      ]
     },
     "execution_count": 28,
     "metadata": {},
     "output_type": "execute_result"
    }
   ],
   "source": [
    "#The R^2 Score\n",
    "dtr.score(X_train,y_train)"
   ]
  },
  {
   "cell_type": "markdown",
   "metadata": {},
   "source": [
    "##### Do prediction using our test data"
   ]
  },
  {
   "cell_type": "code",
   "execution_count": 29,
   "metadata": {},
   "outputs": [],
   "source": [
    "y_pred_dtr = dtr.predict(X_test)"
   ]
  },
  {
   "cell_type": "markdown",
   "metadata": {},
   "source": [
    "##### Import Regression Metrics"
   ]
  },
  {
   "cell_type": "code",
   "execution_count": 30,
   "metadata": {},
   "outputs": [],
   "source": [
    "from sklearn.metrics import mean_absolute_error, mean_squared_error"
   ]
  },
  {
   "cell_type": "markdown",
   "metadata": {},
   "source": [
    "##### Calculate the performance of Regression Model"
   ]
  },
  {
   "cell_type": "code",
   "execution_count": 31,
   "metadata": {},
   "outputs": [
    {
     "name": "stdout",
     "output_type": "stream",
     "text": [
      "Mean Absolute Error (MAE): 581.9255631321874\n",
      "Mean Squared Error (MSE): 642478.8460383507\n",
      "Coefficient of determination (R^2): 0.4697365332340846\n",
      "Root Mean Squared Error: 801.5477815067238\n"
     ]
    }
   ],
   "source": [
    "print(\"Mean Absolute Error (MAE):\",mean_absolute_error(y_test, y_pred_dtr))\n",
    "print(\"Mean Squared Error (MSE):\", mean_squared_error(y_test, y_pred_dtr))\n",
    "print(\"Coefficient of determination (R^2):\", r2_score(y_test, y_pred_dtr))\n",
    "print(\"Root Mean Squared Error:\", np.sqrt(mean_squared_error(y_test, y_pred_dtr)))"
   ]
  },
  {
   "cell_type": "markdown",
   "metadata": {},
   "source": [
    "##### Plot the data"
   ]
  },
  {
   "cell_type": "code",
   "execution_count": 32,
   "metadata": {},
   "outputs": [
    {
     "data": {
      "image/png": "[encoded data removed]",
      "text/plain": [
       "<Figure size 432x288 with 1 Axes>"
      ]
     },
     "metadata": {
      "needs_background": "light"
     },
     "output_type": "display_data"
    }
   ],
   "source": [
    "plt.scatter(y_test, y_pred_dtr) \n",
    "plt.show()"
   ]
  },
  {
   "cell_type": "markdown",
   "metadata": {},
   "source": [
    "# Random Forest Regressor"
   ]
  },
  {
   "cell_type": "code",
   "execution_count": 33,
   "metadata": {},
   "outputs": [],
   "source": [
    "from sklearn.ensemble import RandomForestRegressor"
   ]
  },
  {
   "cell_type": "markdown",
   "metadata": {},
   "source": [
    "##### Instantiate Random Forest Regresser"
   ]
  },
  {
   "cell_type": "code",
   "execution_count": 34,
   "metadata": {},
   "outputs": [],
   "source": [
    "regressor = RandomForestRegressor(n_estimators=40, min_samples_split= 10, max_features= 'auto', max_depth= 5, criterion= 'mse')"
   ]
  },
  {
   "cell_type": "markdown",
   "metadata": {},
   "source": [
    "##### Fit the Random Forest to the training data"
   ]
  },
  {
   "cell_type": "code",
   "execution_count": 35,
   "metadata": {},
   "outputs": [
    {
     "data": {
      "text/plain": [
       "RandomForestRegressor(bootstrap=True, criterion='mse', max_depth=5,\n",
       "           max_features='auto', max_leaf_nodes=None,\n",
       "           min_impurity_decrease=0.0, min_impurity_split=None,\n",
       "           min_samples_leaf=1, min_samples_split=10,\n",
       "           min_weight_fraction_leaf=0.0, n_estimators=40, n_jobs=None,\n",
       "           oob_score=False, random_state=None, verbose=0, warm_start=False)"
      ]
     },
     "execution_count": 35,
     "metadata": {},
     "output_type": "execute_result"
    }
   ],
   "source": [
    "regressor.fit(X_train,y_train)"
   ]
  },
  {
   "cell_type": "code",
   "execution_count": 36,
   "metadata": {},
   "outputs": [
    {
     "data": {
      "text/plain": [
       "0.7359764266960418"
      ]
     },
     "execution_count": 36,
     "metadata": {},
     "output_type": "execute_result"
    }
   ],
   "source": [
    "regressor.score(X_train,y_train)"
   ]
  },
  {
   "cell_type": "markdown",
   "metadata": {},
   "source": [
    "##### Do prediction using our test data"
   ]
  },
  {
   "cell_type": "code",
   "execution_count": 37,
   "metadata": {},
   "outputs": [],
   "source": [
    "y_pred_r = regressor.predict(X_test)"
   ]
  },
  {
   "cell_type": "markdown",
   "metadata": {},
   "source": [
    "##### Import Regression Metrics"
   ]
  },
  {
   "cell_type": "code",
   "execution_count": 38,
   "metadata": {},
   "outputs": [],
   "source": [
    "from sklearn.metrics import mean_absolute_error, mean_squared_error"
   ]
  },
  {
   "cell_type": "markdown",
   "metadata": {},
   "source": [
    "##### Calculate the performance of Regression Model"
   ]
  },
  {
   "cell_type": "code",
   "execution_count": 39,
   "metadata": {},
   "outputs": [
    {
     "name": "stdout",
     "output_type": "stream",
     "text": [
      "Mean Absolute Error (MAE): 546.71\n",
      "Mean Squared Error (MSE): 491179.15\n",
      "Coefficient of determination (R^2): 0.59\n",
      "Root Mean Squared Error: 700.8417458372437\n"
     ]
    }
   ],
   "source": [
    "print('Mean Absolute Error (MAE): %.2f'% mean_absolute_error(y_test,y_pred_r))\n",
    "print('Mean Squared Error (MSE): %.2f'% mean_squared_error(y_test,y_pred_r))\n",
    "print('Coefficient of determination (R^2): %.2f'% r2_score(y_test,y_pred_r))\n",
    "print(\"Root Mean Squared Error:\", np.sqrt(mean_squared_error(y_test, y_pred_r)))"
   ]
  },
  {
   "cell_type": "code",
   "execution_count": 40,
   "metadata": {},
   "outputs": [
    {
     "data": {
      "image/png": "[encoded data removed]",
      "text/plain": [
       "<Figure size 432x288 with 1 Axes>"
      ]
     },
     "metadata": {
      "needs_background": "light"
     },
     "output_type": "display_data"
    }
   ],
   "source": [
    "plt.scatter(y_test, y_pred_r) \n",
    "plt.show()"
   ]
  },
  {
   "cell_type": "code",
   "execution_count": 41,
   "metadata": {},
   "outputs": [
    {
     "name": "stdout",
     "output_type": "stream",
     "text": [
      "+----+-------------------------+----------+--------+\n",
      "|    | Algorithm               |      R^2 |    MSE |\n",
      "|----+-------------------------+----------+--------|\n",
      "|  0 | Linear Regression Model | 0.79409  | 270126 |\n",
      "|  1 | Decision Tree Regressor | 0.670026 | 642479 |\n",
      "|  2 | Random Forest Regressor | 0.735976 | 491179 |\n",
      "+----+-------------------------+----------+--------+\n"
     ]
    }
   ],
   "source": [
    "from tabulate import tabulate \n",
    "\n",
    "values = {'Algorithm':['Linear Regression Model', 'Decision Tree Regressor', 'Random Forest Regressor'], \n",
    "        'R^2':['0.794089868408217','0.6700264276881002' ,'0.7359764266960418'], \n",
    "        'MSE':['270126.09', '642478.8460383507', '491179.15'],\n",
    "       } \n",
    "\n",
    "df = pd.DataFrame(values) \n",
    "  \n",
    "# displaying the DataFrame \n",
    "print(tabulate(df, headers = 'keys', tablefmt = 'psql'))"
   ]
  }
 ],
 "metadata": {
  "kernelspec": {
   "display_name": "Python 3",
   "language": "python",
   "name": "python3"
  },
  "language_info": {
   "codemirror_mode": {
    "name": "ipython",
    "version": 3
   },
   "file_extension": ".py",
   "mimetype": "text/x-python",
   "name": "python",
   "nbconvert_exporter": "python",
   "pygments_lexer": "ipython3",
   "version": "3.7.9"
  }
 },
 "nbformat": 4,
 "nbformat_minor": 4
}
