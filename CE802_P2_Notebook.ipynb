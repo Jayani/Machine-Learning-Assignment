{
 "cells": [
  {
   "cell_type": "markdown",
   "metadata": {},
   "source": [
    "# 2 a) Investigate the performance of a number of machine learning procedures on this dataset."
   ]
  },
  {
   "cell_type": "markdown",
   "metadata": {},
   "source": [
    "##### Import Library"
   ]
  },
  {
   "cell_type": "code",
   "execution_count": 37,
   "metadata": {},
   "outputs": [],
   "source": [
    "import pandas as pd\n",
    "import matplotlib.pyplot as plt\n",
    "import seaborn as sns\n",
    "from sklearn.metrics import accuracy_score, precision_score, recall_score, confusion_matrix, classification_report, f1_score"
   ]
  },
  {
   "cell_type": "markdown",
   "metadata": {},
   "source": [
    "##### Load DataSet"
   ]
  },
  {
   "cell_type": "code",
   "execution_count": 38,
   "metadata": {},
   "outputs": [
    {
     "data": {
      "text/html": [
       "<div>\n",
       "<style scoped>\n",
       "    .dataframe tbody tr th:only-of-type {\n",
       "        vertical-align: middle;\n",
       "    }\n",
       "\n",
       "    .dataframe tbody tr th {\n",
       "        vertical-align: top;\n",
       "    }\n",
       "\n",
       "    .dataframe thead th {\n",
       "        text-align: right;\n",
       "    }\n",
       "</style>\n",
       "<table border=\"1\" class=\"dataframe\">\n",
       "  <thead>\n",
       "    <tr style=\"text-align: right;\">\n",
       "      <th></th>\n",
       "      <th>F1</th>\n",
       "      <th>F2</th>\n",
       "      <th>F3</th>\n",
       "      <th>F4</th>\n",
       "      <th>F5</th>\n",
       "      <th>F6</th>\n",
       "      <th>F7</th>\n",
       "      <th>F8</th>\n",
       "      <th>F9</th>\n",
       "      <th>F10</th>\n",
       "      <th>F11</th>\n",
       "      <th>F12</th>\n",
       "      <th>F13</th>\n",
       "      <th>F14</th>\n",
       "      <th>F15</th>\n",
       "      <th>Class</th>\n",
       "    </tr>\n",
       "  </thead>\n",
       "  <tbody>\n",
       "    <tr>\n",
       "      <th>0</th>\n",
       "      <td>30</td>\n",
       "      <td>186.88</td>\n",
       "      <td>-21.06</td>\n",
       "      <td>-17.68</td>\n",
       "      <td>14.20</td>\n",
       "      <td>563.22</td>\n",
       "      <td>-3.29</td>\n",
       "      <td>-5.32</td>\n",
       "      <td>-18.90</td>\n",
       "      <td>9.20</td>\n",
       "      <td>-9.44</td>\n",
       "      <td>10.89</td>\n",
       "      <td>-8.54</td>\n",
       "      <td>510</td>\n",
       "      <td>NaN</td>\n",
       "      <td>False</td>\n",
       "    </tr>\n",
       "    <tr>\n",
       "      <th>1</th>\n",
       "      <td>30</td>\n",
       "      <td>196.88</td>\n",
       "      <td>-22.89</td>\n",
       "      <td>-19.38</td>\n",
       "      <td>19.70</td>\n",
       "      <td>353.22</td>\n",
       "      <td>-5.71</td>\n",
       "      <td>-1.48</td>\n",
       "      <td>-18.33</td>\n",
       "      <td>7.15</td>\n",
       "      <td>-8.58</td>\n",
       "      <td>15.89</td>\n",
       "      <td>-8.44</td>\n",
       "      <td>760</td>\n",
       "      <td>7.22</td>\n",
       "      <td>False</td>\n",
       "    </tr>\n",
       "    <tr>\n",
       "      <th>2</th>\n",
       "      <td>30</td>\n",
       "      <td>96.88</td>\n",
       "      <td>-19.65</td>\n",
       "      <td>-16.46</td>\n",
       "      <td>17.30</td>\n",
       "      <td>398.22</td>\n",
       "      <td>-5.19</td>\n",
       "      <td>-1.96</td>\n",
       "      <td>-14.64</td>\n",
       "      <td>7.10</td>\n",
       "      <td>-9.18</td>\n",
       "      <td>20.89</td>\n",
       "      <td>-8.79</td>\n",
       "      <td>610</td>\n",
       "      <td>7.69</td>\n",
       "      <td>False</td>\n",
       "    </tr>\n",
       "    <tr>\n",
       "      <th>3</th>\n",
       "      <td>3</td>\n",
       "      <td>216.88</td>\n",
       "      <td>-33.24</td>\n",
       "      <td>-27.80</td>\n",
       "      <td>0.84</td>\n",
       "      <td>344.22</td>\n",
       "      <td>-0.86</td>\n",
       "      <td>-6.89</td>\n",
       "      <td>-14.73</td>\n",
       "      <td>0.09</td>\n",
       "      <td>-17.98</td>\n",
       "      <td>7.89</td>\n",
       "      <td>-3.78</td>\n",
       "      <td>32</td>\n",
       "      <td>NaN</td>\n",
       "      <td>False</td>\n",
       "    </tr>\n",
       "    <tr>\n",
       "      <th>4</th>\n",
       "      <td>3</td>\n",
       "      <td>198.88</td>\n",
       "      <td>-32.52</td>\n",
       "      <td>-26.26</td>\n",
       "      <td>1.52</td>\n",
       "      <td>278.22</td>\n",
       "      <td>0.08</td>\n",
       "      <td>-7.73</td>\n",
       "      <td>-13.62</td>\n",
       "      <td>1.91</td>\n",
       "      <td>-23.94</td>\n",
       "      <td>7.89</td>\n",
       "      <td>-3.25</td>\n",
       "      <td>36</td>\n",
       "      <td>NaN</td>\n",
       "      <td>True</td>\n",
       "    </tr>\n",
       "  </tbody>\n",
       "</table>\n",
       "</div>"
      ],
      "text/plain": [
       "   F1      F2     F3     F4     F5      F6    F7    F8     F9   F10    F11  \\\n",
       "0  30  186.88 -21.06 -17.68  14.20  563.22 -3.29 -5.32 -18.90  9.20  -9.44   \n",
       "1  30  196.88 -22.89 -19.38  19.70  353.22 -5.71 -1.48 -18.33  7.15  -8.58   \n",
       "2  30   96.88 -19.65 -16.46  17.30  398.22 -5.19 -1.96 -14.64  7.10  -9.18   \n",
       "3   3  216.88 -33.24 -27.80   0.84  344.22 -0.86 -6.89 -14.73  0.09 -17.98   \n",
       "4   3  198.88 -32.52 -26.26   1.52  278.22  0.08 -7.73 -13.62  1.91 -23.94   \n",
       "\n",
       "     F12   F13  F14   F15  Class  \n",
       "0  10.89 -8.54  510   NaN  False  \n",
       "1  15.89 -8.44  760  7.22  False  \n",
       "2  20.89 -8.79  610  7.69  False  \n",
       "3   7.89 -3.78   32   NaN  False  \n",
       "4   7.89 -3.25   36   NaN   True  "
      ]
     },
     "execution_count": 38,
     "metadata": {},
     "output_type": "execute_result"
    }
   ],
   "source": [
    "# making data frame from csv file\n",
    "dataset = pd.read_csv(\"D:\\\\Machine Learning\\CE802_P2_Data\\CE802_P2_Data.csv\")\n",
    "dataset.shape\n",
    "dataset.head()"
   ]
  },
  {
   "cell_type": "code",
   "execution_count": 39,
   "metadata": {},
   "outputs": [
    {
     "name": "stdout",
     "output_type": "stream",
     "text": [
      "<class 'pandas.core.frame.DataFrame'>\n",
      "RangeIndex: 1500 entries, 0 to 1499\n",
      "Data columns (total 16 columns):\n",
      " #   Column  Non-Null Count  Dtype  \n",
      "---  ------  --------------  -----  \n",
      " 0   F1      1500 non-null   int64  \n",
      " 1   F2      1500 non-null   float64\n",
      " 2   F3      1500 non-null   float64\n",
      " 3   F4      1500 non-null   float64\n",
      " 4   F5      1500 non-null   float64\n",
      " 5   F6      1500 non-null   float64\n",
      " 6   F7      1500 non-null   float64\n",
      " 7   F8      1500 non-null   float64\n",
      " 8   F9      1500 non-null   float64\n",
      " 9   F10     1500 non-null   float64\n",
      " 10  F11     1500 non-null   float64\n",
      " 11  F12     1500 non-null   float64\n",
      " 12  F13     1500 non-null   float64\n",
      " 13  F14     1500 non-null   int64  \n",
      " 14  F15     750 non-null    float64\n",
      " 15  Class   1500 non-null   bool   \n",
      "dtypes: bool(1), float64(13), int64(2)\n",
      "memory usage: 177.4 KB\n"
     ]
    }
   ],
   "source": [
    "dataset.info()"
   ]
  },
  {
   "cell_type": "markdown",
   "metadata": {},
   "source": [
    "##### Find Missing Values"
   ]
  },
  {
   "cell_type": "code",
   "execution_count": 40,
   "metadata": {},
   "outputs": [
    {
     "data": {
      "text/html": [
       "<div>\n",
       "<style scoped>\n",
       "    .dataframe tbody tr th:only-of-type {\n",
       "        vertical-align: middle;\n",
       "    }\n",
       "\n",
       "    .dataframe tbody tr th {\n",
       "        vertical-align: top;\n",
       "    }\n",
       "\n",
       "    .dataframe thead th {\n",
       "        text-align: right;\n",
       "    }\n",
       "</style>\n",
       "<table border=\"1\" class=\"dataframe\">\n",
       "  <thead>\n",
       "    <tr style=\"text-align: right;\">\n",
       "      <th></th>\n",
       "      <th>F1</th>\n",
       "      <th>F2</th>\n",
       "      <th>F3</th>\n",
       "      <th>F4</th>\n",
       "      <th>F5</th>\n",
       "      <th>F6</th>\n",
       "      <th>F7</th>\n",
       "      <th>F8</th>\n",
       "      <th>F9</th>\n",
       "      <th>F10</th>\n",
       "      <th>F11</th>\n",
       "      <th>F12</th>\n",
       "      <th>F13</th>\n",
       "      <th>F14</th>\n",
       "      <th>F15</th>\n",
       "      <th>Class</th>\n",
       "    </tr>\n",
       "  </thead>\n",
       "  <tbody>\n",
       "    <tr>\n",
       "      <th>0</th>\n",
       "      <td>30</td>\n",
       "      <td>186.88</td>\n",
       "      <td>-21.06</td>\n",
       "      <td>-17.68</td>\n",
       "      <td>14.20</td>\n",
       "      <td>563.22</td>\n",
       "      <td>-3.29</td>\n",
       "      <td>-5.32</td>\n",
       "      <td>-18.90</td>\n",
       "      <td>9.20</td>\n",
       "      <td>-9.44</td>\n",
       "      <td>10.89</td>\n",
       "      <td>-8.54</td>\n",
       "      <td>510</td>\n",
       "      <td>NaN</td>\n",
       "      <td>False</td>\n",
       "    </tr>\n",
       "    <tr>\n",
       "      <th>3</th>\n",
       "      <td>3</td>\n",
       "      <td>216.88</td>\n",
       "      <td>-33.24</td>\n",
       "      <td>-27.80</td>\n",
       "      <td>0.84</td>\n",
       "      <td>344.22</td>\n",
       "      <td>-0.86</td>\n",
       "      <td>-6.89</td>\n",
       "      <td>-14.73</td>\n",
       "      <td>0.09</td>\n",
       "      <td>-17.98</td>\n",
       "      <td>7.89</td>\n",
       "      <td>-3.78</td>\n",
       "      <td>32</td>\n",
       "      <td>NaN</td>\n",
       "      <td>False</td>\n",
       "    </tr>\n",
       "    <tr>\n",
       "      <th>4</th>\n",
       "      <td>3</td>\n",
       "      <td>198.88</td>\n",
       "      <td>-32.52</td>\n",
       "      <td>-26.26</td>\n",
       "      <td>1.52</td>\n",
       "      <td>278.22</td>\n",
       "      <td>0.08</td>\n",
       "      <td>-7.73</td>\n",
       "      <td>-13.62</td>\n",
       "      <td>1.91</td>\n",
       "      <td>-23.94</td>\n",
       "      <td>7.89</td>\n",
       "      <td>-3.25</td>\n",
       "      <td>36</td>\n",
       "      <td>NaN</td>\n",
       "      <td>True</td>\n",
       "    </tr>\n",
       "    <tr>\n",
       "      <th>5</th>\n",
       "      <td>30</td>\n",
       "      <td>386.88</td>\n",
       "      <td>-20.94</td>\n",
       "      <td>-20.34</td>\n",
       "      <td>10.70</td>\n",
       "      <td>533.22</td>\n",
       "      <td>-4.12</td>\n",
       "      <td>-4.22</td>\n",
       "      <td>-8.97</td>\n",
       "      <td>14.50</td>\n",
       "      <td>-11.00</td>\n",
       "      <td>20.89</td>\n",
       "      <td>-9.09</td>\n",
       "      <td>330</td>\n",
       "      <td>NaN</td>\n",
       "      <td>False</td>\n",
       "    </tr>\n",
       "    <tr>\n",
       "      <th>8</th>\n",
       "      <td>3</td>\n",
       "      <td>182.88</td>\n",
       "      <td>-32.76</td>\n",
       "      <td>-25.48</td>\n",
       "      <td>1.82</td>\n",
       "      <td>323.22</td>\n",
       "      <td>2.55</td>\n",
       "      <td>-7.31</td>\n",
       "      <td>-17.85</td>\n",
       "      <td>0.99</td>\n",
       "      <td>-20.30</td>\n",
       "      <td>5.89</td>\n",
       "      <td>-3.74</td>\n",
       "      <td>66</td>\n",
       "      <td>NaN</td>\n",
       "      <td>True</td>\n",
       "    </tr>\n",
       "    <tr>\n",
       "      <th>...</th>\n",
       "      <td>...</td>\n",
       "      <td>...</td>\n",
       "      <td>...</td>\n",
       "      <td>...</td>\n",
       "      <td>...</td>\n",
       "      <td>...</td>\n",
       "      <td>...</td>\n",
       "      <td>...</td>\n",
       "      <td>...</td>\n",
       "      <td>...</td>\n",
       "      <td>...</td>\n",
       "      <td>...</td>\n",
       "      <td>...</td>\n",
       "      <td>...</td>\n",
       "      <td>...</td>\n",
       "      <td>...</td>\n",
       "    </tr>\n",
       "    <tr>\n",
       "      <th>1487</th>\n",
       "      <td>30</td>\n",
       "      <td>256.88</td>\n",
       "      <td>-18.39</td>\n",
       "      <td>-15.72</td>\n",
       "      <td>18.70</td>\n",
       "      <td>503.22</td>\n",
       "      <td>-5.13</td>\n",
       "      <td>-1.94</td>\n",
       "      <td>-9.75</td>\n",
       "      <td>13.40</td>\n",
       "      <td>-9.50</td>\n",
       "      <td>20.89</td>\n",
       "      <td>-8.59</td>\n",
       "      <td>630</td>\n",
       "      <td>NaN</td>\n",
       "      <td>True</td>\n",
       "    </tr>\n",
       "    <tr>\n",
       "      <th>1493</th>\n",
       "      <td>3</td>\n",
       "      <td>164.88</td>\n",
       "      <td>-36.24</td>\n",
       "      <td>-29.68</td>\n",
       "      <td>1.90</td>\n",
       "      <td>302.22</td>\n",
       "      <td>1.26</td>\n",
       "      <td>-9.04</td>\n",
       "      <td>-13.44</td>\n",
       "      <td>1.23</td>\n",
       "      <td>-19.72</td>\n",
       "      <td>7.89</td>\n",
       "      <td>-2.94</td>\n",
       "      <td>2</td>\n",
       "      <td>NaN</td>\n",
       "      <td>False</td>\n",
       "    </tr>\n",
       "    <tr>\n",
       "      <th>1494</th>\n",
       "      <td>30</td>\n",
       "      <td>156.88</td>\n",
       "      <td>-20.82</td>\n",
       "      <td>-16.82</td>\n",
       "      <td>16.70</td>\n",
       "      <td>398.22</td>\n",
       "      <td>-5.46</td>\n",
       "      <td>-3.46</td>\n",
       "      <td>-12.60</td>\n",
       "      <td>7.40</td>\n",
       "      <td>-7.32</td>\n",
       "      <td>20.89</td>\n",
       "      <td>-11.14</td>\n",
       "      <td>490</td>\n",
       "      <td>NaN</td>\n",
       "      <td>True</td>\n",
       "    </tr>\n",
       "    <tr>\n",
       "      <th>1497</th>\n",
       "      <td>30</td>\n",
       "      <td>106.88</td>\n",
       "      <td>-17.91</td>\n",
       "      <td>-17.48</td>\n",
       "      <td>13.50</td>\n",
       "      <td>623.22</td>\n",
       "      <td>-5.96</td>\n",
       "      <td>-2.59</td>\n",
       "      <td>-13.89</td>\n",
       "      <td>9.40</td>\n",
       "      <td>-7.06</td>\n",
       "      <td>20.89</td>\n",
       "      <td>-11.79</td>\n",
       "      <td>370</td>\n",
       "      <td>NaN</td>\n",
       "      <td>True</td>\n",
       "    </tr>\n",
       "    <tr>\n",
       "      <th>1498</th>\n",
       "      <td>30</td>\n",
       "      <td>336.88</td>\n",
       "      <td>-23.73</td>\n",
       "      <td>-18.68</td>\n",
       "      <td>17.60</td>\n",
       "      <td>503.22</td>\n",
       "      <td>-5.01</td>\n",
       "      <td>-3.72</td>\n",
       "      <td>-7.98</td>\n",
       "      <td>6.50</td>\n",
       "      <td>-8.60</td>\n",
       "      <td>30.89</td>\n",
       "      <td>-8.04</td>\n",
       "      <td>250</td>\n",
       "      <td>NaN</td>\n",
       "      <td>False</td>\n",
       "    </tr>\n",
       "  </tbody>\n",
       "</table>\n",
       "<p>750 rows × 16 columns</p>\n",
       "</div>"
      ],
      "text/plain": [
       "      F1      F2     F3     F4     F5      F6    F7    F8     F9    F10  \\\n",
       "0     30  186.88 -21.06 -17.68  14.20  563.22 -3.29 -5.32 -18.90   9.20   \n",
       "3      3  216.88 -33.24 -27.80   0.84  344.22 -0.86 -6.89 -14.73   0.09   \n",
       "4      3  198.88 -32.52 -26.26   1.52  278.22  0.08 -7.73 -13.62   1.91   \n",
       "5     30  386.88 -20.94 -20.34  10.70  533.22 -4.12 -4.22  -8.97  14.50   \n",
       "8      3  182.88 -32.76 -25.48   1.82  323.22  2.55 -7.31 -17.85   0.99   \n",
       "...   ..     ...    ...    ...    ...     ...   ...   ...    ...    ...   \n",
       "1487  30  256.88 -18.39 -15.72  18.70  503.22 -5.13 -1.94  -9.75  13.40   \n",
       "1493   3  164.88 -36.24 -29.68   1.90  302.22  1.26 -9.04 -13.44   1.23   \n",
       "1494  30  156.88 -20.82 -16.82  16.70  398.22 -5.46 -3.46 -12.60   7.40   \n",
       "1497  30  106.88 -17.91 -17.48  13.50  623.22 -5.96 -2.59 -13.89   9.40   \n",
       "1498  30  336.88 -23.73 -18.68  17.60  503.22 -5.01 -3.72  -7.98   6.50   \n",
       "\n",
       "        F11    F12    F13  F14  F15  Class  \n",
       "0     -9.44  10.89  -8.54  510  NaN  False  \n",
       "3    -17.98   7.89  -3.78   32  NaN  False  \n",
       "4    -23.94   7.89  -3.25   36  NaN   True  \n",
       "5    -11.00  20.89  -9.09  330  NaN  False  \n",
       "8    -20.30   5.89  -3.74   66  NaN   True  \n",
       "...     ...    ...    ...  ...  ...    ...  \n",
       "1487  -9.50  20.89  -8.59  630  NaN   True  \n",
       "1493 -19.72   7.89  -2.94    2  NaN  False  \n",
       "1494  -7.32  20.89 -11.14  490  NaN   True  \n",
       "1497  -7.06  20.89 -11.79  370  NaN   True  \n",
       "1498  -8.60  30.89  -8.04  250  NaN  False  \n",
       "\n",
       "[750 rows x 16 columns]"
      ]
     },
     "execution_count": 40,
     "metadata": {},
     "output_type": "execute_result"
    }
   ],
   "source": [
    "missing_data = pd.isnull(dataset[\"F15\"])\n",
    " \n",
    "# filtering data\n",
    "# displayind data only with F15 = NaN\n",
    "dataset[missing_data]"
   ]
  },
  {
   "cell_type": "markdown",
   "metadata": {},
   "source": [
    "##### Missing Values Imputation"
   ]
  },
  {
   "cell_type": "code",
   "execution_count": 41,
   "metadata": {},
   "outputs": [
    {
     "name": "stdout",
     "output_type": "stream",
     "text": [
      "      F1      F2     F3     F4     F5      F6    F7    F8     F9   F10    F11  \\\n",
      "0     30  186.88 -21.06 -17.68  14.20  563.22 -3.29 -5.32 -18.90  9.20  -9.44   \n",
      "1     30  196.88 -22.89 -19.38  19.70  353.22 -5.71 -1.48 -18.33  7.15  -8.58   \n",
      "2     30   96.88 -19.65 -16.46  17.30  398.22 -5.19 -1.96 -14.64  7.10  -9.18   \n",
      "3      3  216.88 -33.24 -27.80   0.84  344.22 -0.86 -6.89 -14.73  0.09 -17.98   \n",
      "4      3  198.88 -32.52 -26.26   1.52  278.22  0.08 -7.73 -13.62  1.91 -23.94   \n",
      "...   ..     ...    ...    ...    ...     ...   ...   ...    ...   ...    ...   \n",
      "1495  30  266.88 -18.69 -17.30  14.70  383.22 -4.94 -3.05  -9.78  5.95 -14.20   \n",
      "1496  30  206.88 -22.35 -18.00  12.30  428.22 -3.27 -3.48  -8.46  9.20 -11.56   \n",
      "1497  30  106.88 -17.91 -17.48  13.50  623.22 -5.96 -2.59 -13.89  9.40  -7.06   \n",
      "1498  30  336.88 -23.73 -18.68  17.60  503.22 -5.01 -3.72  -7.98  6.50  -8.60   \n",
      "1499   3  218.88 -34.08 -26.14   1.18  335.22  0.77 -7.68 -15.21  1.43 -25.30   \n",
      "\n",
      "        F12    F13  F14       F15  Class  \n",
      "0     10.89  -8.54  510  7.903013  False  \n",
      "1     15.89  -8.44  760  7.220000  False  \n",
      "2     20.89  -8.79  610  7.690000  False  \n",
      "3      7.89  -3.78   32  7.903013  False  \n",
      "4      7.89  -3.25   36  7.903013   True  \n",
      "...     ...    ...  ...       ...    ...  \n",
      "1495  20.89  -9.29  110  9.380000   True  \n",
      "1496  30.89  -8.44  260  6.520000  False  \n",
      "1497  20.89 -11.79  370  7.903013   True  \n",
      "1498  30.89  -8.04  250  7.903013  False  \n",
      "1499   9.89  -2.86   16  7.960000   True  \n",
      "\n",
      "[1500 rows x 16 columns]\n"
     ]
    }
   ],
   "source": [
    "# filling data\n",
    "dataset['F15'] = dataset['F15'].fillna(dataset['F15'].mean()) \n",
    "print(dataset)"
   ]
  },
  {
   "cell_type": "markdown",
   "metadata": {},
   "source": [
    "# Decision Tree classifier"
   ]
  },
  {
   "cell_type": "markdown",
   "metadata": {},
   "source": [
    "##### Create X and Y Metrics"
   ]
  },
  {
   "cell_type": "code",
   "execution_count": 42,
   "metadata": {},
   "outputs": [],
   "source": [
    "inputs=dataset.drop('Class',axis=1)\n",
    "target=dataset['Class']"
   ]
  },
  {
   "cell_type": "markdown",
   "metadata": {},
   "source": [
    "##### Data Split"
   ]
  },
  {
   "cell_type": "code",
   "execution_count": 43,
   "metadata": {},
   "outputs": [],
   "source": [
    "from sklearn.model_selection import train_test_split\n",
    "\n",
    "X_train, X_test, y_train, y_test = train_test_split(inputs, target, test_size=0.20)"
   ]
  },
  {
   "cell_type": "code",
   "execution_count": null,
   "metadata": {},
   "outputs": [],
   "source": [
    "from sklearn.preprocessing import StandardScaler\n",
    "scalar=StandardScaler()\n",
    "scalar.fit(X_train)\n",
    "X_train = scalar.transform(X_train)\n",
    "X_test = scalar.transform(X_test)"
   ]
  },
  {
   "cell_type": "code",
   "execution_count": 45,
   "metadata": {},
   "outputs": [],
   "source": [
    "from sklearn import tree"
   ]
  },
  {
   "cell_type": "markdown",
   "metadata": {},
   "source": [
    "##### Instantiate Decision Tree Classifier"
   ]
  },
  {
   "cell_type": "code",
   "execution_count": 46,
   "metadata": {},
   "outputs": [],
   "source": [
    "model = tree.DecisionTreeClassifier(criterion='gini',max_depth=6, min_samples_split=15, class_weight='balanced') # Using the best parameters obtained by Randomsearch"
   ]
  },
  {
   "cell_type": "markdown",
   "metadata": {},
   "source": [
    "##### Fit the Decision Tree to the training data"
   ]
  },
  {
   "cell_type": "code",
   "execution_count": 47,
   "metadata": {},
   "outputs": [
    {
     "data": {
      "text/plain": [
       "DecisionTreeClassifier(class_weight='balanced', criterion='gini', max_depth=6,\n",
       "            max_features=None, max_leaf_nodes=None,\n",
       "            min_impurity_decrease=0.0, min_impurity_split=None,\n",
       "            min_samples_leaf=1, min_samples_split=15,\n",
       "            min_weight_fraction_leaf=0.0, presort=False, random_state=None,\n",
       "            splitter='best')"
      ]
     },
     "execution_count": 47,
     "metadata": {},
     "output_type": "execute_result"
    }
   ],
   "source": [
    "model.fit(X_train, y_train)"
   ]
  },
  {
   "cell_type": "markdown",
   "metadata": {},
   "source": [
    "##### Do prediction using our test data"
   ]
  },
  {
   "cell_type": "code",
   "execution_count": 48,
   "metadata": {},
   "outputs": [],
   "source": [
    "y_pred = model.predict(X_test)"
   ]
  },
  {
   "cell_type": "markdown",
   "metadata": {},
   "source": [
    "##### Calculate the performance of Decision Tree Classifier"
   ]
  },
  {
   "cell_type": "code",
   "execution_count": 49,
   "metadata": {},
   "outputs": [
    {
     "name": "stdout",
     "output_type": "stream",
     "text": [
      "Accuracy on test set: 75.667%\n",
      "Precision on test set: 0.775\n",
      "Recall on test set: 0.669\n",
      "F1-Score on test set: 0.718\n"
     ]
    },
    {
     "data": {
      "image/png": "[encoded data removed]",
      "text/plain": [
       "<Figure size 432x288 with 2 Axes>"
      ]
     },
     "metadata": {
      "needs_background": "light"
     },
     "output_type": "display_data"
    }
   ],
   "source": [
    "print(\"Accuracy on test set: %0.3f%%\"%(accuracy_score(y_test, y_pred)*100))\n",
    "print(\"Precision on test set: %0.3f\"%(precision_score(y_test, y_pred)))\n",
    "print(\"Recall on test set: %0.3f\"%(recall_score(y_test, y_pred)))\n",
    "print(\"F1-Score on test set: %0.3f\"%(f1_score(y_test, y_pred)))\n",
    "\n",
    "cm = confusion_matrix(y_test, y_pred)\n",
    "class_label = [\"negative\", \"positive\"]\n",
    "df_cm = pd.DataFrame(cm, index = class_label, columns = class_label)\n",
    "sns.heatmap(df_cm, annot = True, fmt = \"d\")\n",
    "plt.title(\"Confusion Matrix\")\n",
    "plt.xlabel(\"Predicted Label\")\n",
    "plt.ylabel(\"True Label\")\n",
    "plt.show()\n"
   ]
  },
  {
   "cell_type": "markdown",
   "metadata": {},
   "source": [
    "# Support Vector Classifier"
   ]
  },
  {
   "cell_type": "code",
   "execution_count": 50,
   "metadata": {},
   "outputs": [],
   "source": [
    "from sklearn.svm import SVC"
   ]
  },
  {
   "cell_type": "markdown",
   "metadata": {},
   "source": [
    "##### Instantiate Support Vector Classifier"
   ]
  },
  {
   "cell_type": "code",
   "execution_count": 51,
   "metadata": {},
   "outputs": [],
   "source": [
    "svmclassifier = SVC()"
   ]
  },
  {
   "cell_type": "markdown",
   "metadata": {},
   "source": [
    "##### Fit the Support Vector to the training data"
   ]
  },
  {
   "cell_type": "code",
   "execution_count": 52,
   "metadata": {},
   "outputs": [
    {
     "data": {
      "text/plain": [
       "SVC(C=1.0, cache_size=200, class_weight=None, coef0=0.0,\n",
       "  decision_function_shape='ovr', degree=3, gamma='auto_deprecated',\n",
       "  kernel='rbf', max_iter=-1, probability=False, random_state=None,\n",
       "  shrinking=True, tol=0.001, verbose=False)"
      ]
     },
     "execution_count": 52,
     "metadata": {},
     "output_type": "execute_result"
    }
   ],
   "source": [
    "svmclassifier.fit(X_train, y_train)"
   ]
  },
  {
   "cell_type": "markdown",
   "metadata": {},
   "source": [
    "##### Do prediction using our test data"
   ]
  },
  {
   "cell_type": "code",
   "execution_count": 53,
   "metadata": {},
   "outputs": [],
   "source": [
    "y_pred_svm = svmclassifier.predict(X_test)"
   ]
  },
  {
   "cell_type": "markdown",
   "metadata": {},
   "source": [
    "##### Calculate the performance of Support Vector Classifier"
   ]
  },
  {
   "cell_type": "code",
   "execution_count": 54,
   "metadata": {},
   "outputs": [
    {
     "name": "stdout",
     "output_type": "stream",
     "text": [
      "Accuracy on test set: 80.000%\n",
      "Precision on test set: 0.788\n",
      "Recall on test set: 0.777\n",
      "F1-Score on test set: 0.783\n"
     ]
    },
    {
     "data": {
      "image/png": "[encoded data removed]",
      "text/plain": [
       "<Figure size 432x288 with 2 Axes>"
      ]
     },
     "metadata": {
      "needs_background": "light"
     },
     "output_type": "display_data"
    }
   ],
   "source": [
    "print(\"Accuracy on test set: %0.3f%%\"%(accuracy_score(y_test, y_pred_svm)*100))\n",
    "print(\"Precision on test set: %0.3f\"%(precision_score(y_test, y_pred_svm)))\n",
    "print(\"Recall on test set: %0.3f\"%(recall_score(y_test, y_pred_svm)))\n",
    "print(\"F1-Score on test set: %0.3f\"%(f1_score(y_test, y_pred_svm)))\n",
    "\n",
    "cm = confusion_matrix(y_test, y_pred_svm)\n",
    "class_label = [\"negative\", \"positive\"]\n",
    "df_cm = pd.DataFrame(cm, index = class_label, columns = class_label)\n",
    "sns.heatmap(df_cm, annot = True, fmt = \"d\")\n",
    "plt.title(\"Confusion Matrix\")\n",
    "plt.xlabel(\"Predicted Label\")\n",
    "plt.ylabel(\"True Label\")\n",
    "plt.show()"
   ]
  },
  {
   "cell_type": "markdown",
   "metadata": {},
   "source": [
    "# Random Forest Classifier"
   ]
  },
  {
   "cell_type": "code",
   "execution_count": 55,
   "metadata": {},
   "outputs": [],
   "source": [
    "from sklearn.ensemble import RandomForestClassifier"
   ]
  },
  {
   "cell_type": "markdown",
   "metadata": {},
   "source": [
    "##### Instantiate Random Forest Classifier"
   ]
  },
  {
   "cell_type": "code",
   "execution_count": 56,
   "metadata": {},
   "outputs": [],
   "source": [
    "rfclassifier = RandomForestClassifier(n_estimators=40, min_samples_split= 10, max_features= 'auto', max_depth= 5)"
   ]
  },
  {
   "cell_type": "markdown",
   "metadata": {},
   "source": [
    "##### Fit the Random Forest to the training data"
   ]
  },
  {
   "cell_type": "code",
   "execution_count": 57,
   "metadata": {},
   "outputs": [
    {
     "data": {
      "text/plain": [
       "RandomForestClassifier(bootstrap=True, class_weight=None, criterion='gini',\n",
       "            max_depth=5, max_features='auto', max_leaf_nodes=None,\n",
       "            min_impurity_decrease=0.0, min_impurity_split=None,\n",
       "            min_samples_leaf=1, min_samples_split=10,\n",
       "            min_weight_fraction_leaf=0.0, n_estimators=40, n_jobs=None,\n",
       "            oob_score=False, random_state=None, verbose=0,\n",
       "            warm_start=False)"
      ]
     },
     "execution_count": 57,
     "metadata": {},
     "output_type": "execute_result"
    }
   ],
   "source": [
    "rfclassifier.fit(X_train, y_train)"
   ]
  },
  {
   "cell_type": "markdown",
   "metadata": {},
   "source": [
    "##### Do prediction using our test data"
   ]
  },
  {
   "cell_type": "code",
   "execution_count": 58,
   "metadata": {},
   "outputs": [],
   "source": [
    "y_pred_rf = rfclassifier.predict(X_test)"
   ]
  },
  {
   "cell_type": "markdown",
   "metadata": {},
   "source": [
    "##### Calculate the performance of Random Forest Classifier"
   ]
  },
  {
   "cell_type": "code",
   "execution_count": 59,
   "metadata": {},
   "outputs": [
    {
     "name": "stdout",
     "output_type": "stream",
     "text": [
      "Accuracy on test set: 83.000%\n",
      "Precision on test set: 0.819\n",
      "Recall on test set: 0.813\n",
      "F1-Score on test set: 0.816\n"
     ]
    },
    {
     "data": {
      "image/png": "[encoded data removed]",
      "text/plain": [
       "<Figure size 432x288 with 2 Axes>"
      ]
     },
     "metadata": {
      "needs_background": "light"
     },
     "output_type": "display_data"
    }
   ],
   "source": [
    "print(\"Accuracy on test set: %0.3f%%\"%(accuracy_score(y_test, y_pred_rf)*100))\n",
    "print(\"Precision on test set: %0.3f\"%(precision_score(y_test, y_pred_rf)))\n",
    "print(\"Recall on test set: %0.3f\"%(recall_score(y_test, y_pred_rf)))\n",
    "print(\"F1-Score on test set: %0.3f\"%(f1_score(y_test, y_pred_rf)))\n",
    "\n",
    "cm = confusion_matrix(y_test, y_pred_rf)\n",
    "class_label = [\"negative\", \"positive\"]\n",
    "df_cm = pd.DataFrame(cm, index = class_label, columns = class_label)\n",
    "sns.heatmap(df_cm, annot = True, fmt = \"d\")\n",
    "plt.title(\"Confusion Matrix\")\n",
    "plt.xlabel(\"Predicted Label\")\n",
    "plt.ylabel(\"True Label\")\n",
    "plt.show()"
   ]
  },
  {
   "cell_type": "code",
   "execution_count": 60,
   "metadata": {},
   "outputs": [
    {
     "name": "stdout",
     "output_type": "stream",
     "text": [
      "+----+---------------------------+------------+-------------+----------+------------+\n",
      "|    | Algorithm                 | Accuracy   |   Precision |   Recall |   F1-Score |\n",
      "|----+---------------------------+------------+-------------+----------+------------|\n",
      "|  0 | Decision Tree Classifier  | 75.667%    |       0.775 |    0.669 |      0.718 |\n",
      "|  1 | Support Vector Classifier | 80%        |       0.788 |    0.777 |      0.783 |\n",
      "|  2 | Random Forest Classifier  | 83%        |       0.819 |    0.813 |      0.816 |\n",
      "+----+---------------------------+------------+-------------+----------+------------+\n"
     ]
    }
   ],
   "source": [
    "from tabulate import tabulate \n",
    "   \n",
    "values1 = {'Algorithm':['Decision Tree Classifier', 'Support Vector Classifier', 'Random Forest Classifier'], \n",
    "        'Accuracy':['75.667%','80%' ,'83%'], \n",
    "        'Precision':['0.775', '0.788', '0.819'],\n",
    "        'Recall':['0.669','0.777','0.813'],\n",
    "        'F1-Score':['0.718','0.783','0.816']\n",
    "       } \n",
    "\n",
    "df2 = pd.DataFrame(values1) \n",
    "  \n",
    "# displaying the DataFrame \n",
    "print(tabulate(df2, headers = 'keys', tablefmt = 'psql')) "
   ]
  }
 ],
 "metadata": {
  "kernelspec": {
   "display_name": "Python 3",
   "language": "python",
   "name": "python3"
  },
  "language_info": {
   "codemirror_mode": {
    "name": "ipython",
    "version": 3
   },
   "file_extension": ".py",
   "mimetype": "text/x-python",
   "name": "python",
   "nbconvert_exporter": "python",
   "pygments_lexer": "ipython3",
   "version": "3.7.9"
  }
 },
 "nbformat": 4,
 "nbformat_minor": 4
}
