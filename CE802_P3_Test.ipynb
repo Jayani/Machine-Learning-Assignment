{
 "cells": [
  {
   "cell_type": "markdown",
   "metadata": {},
   "source": [
    "# 3 b) Prediction on a hold-out test set"
   ]
  },
  {
   "cell_type": "markdown",
   "metadata": {},
   "source": [
    "##### Import Libraries"
   ]
  },
  {
   "cell_type": "code",
   "execution_count": 79,
   "metadata": {},
   "outputs": [],
   "source": [
    "import pandas as pd\n",
    "import numpy as np\n",
    "import matplotlib.pyplot as plt\n",
    "import seaborn as sns"
   ]
  },
  {
   "cell_type": "markdown",
   "metadata": {},
   "source": [
    "##### Load DataSet"
   ]
  },
  {
   "cell_type": "code",
   "execution_count": 80,
   "metadata": {},
   "outputs": [
    {
     "data": {
      "text/html": [
       "<div>\n",
       "<style scoped>\n",
       "    .dataframe tbody tr th:only-of-type {\n",
       "        vertical-align: middle;\n",
       "    }\n",
       "\n",
       "    .dataframe tbody tr th {\n",
       "        vertical-align: top;\n",
       "    }\n",
       "\n",
       "    .dataframe thead th {\n",
       "        text-align: right;\n",
       "    }\n",
       "</style>\n",
       "<table border=\"1\" class=\"dataframe\">\n",
       "  <thead>\n",
       "    <tr style=\"text-align: right;\">\n",
       "      <th></th>\n",
       "      <th>F1</th>\n",
       "      <th>F2</th>\n",
       "      <th>F3</th>\n",
       "      <th>F4</th>\n",
       "      <th>F5</th>\n",
       "      <th>F6</th>\n",
       "      <th>F7</th>\n",
       "      <th>F8</th>\n",
       "      <th>F9</th>\n",
       "      <th>F10</th>\n",
       "      <th>F11</th>\n",
       "      <th>F12</th>\n",
       "      <th>F13</th>\n",
       "      <th>F14</th>\n",
       "      <th>F15</th>\n",
       "      <th>F16</th>\n",
       "      <th>Target</th>\n",
       "    </tr>\n",
       "  </thead>\n",
       "  <tbody>\n",
       "    <tr>\n",
       "      <th>0</th>\n",
       "      <td>16.56</td>\n",
       "      <td>12.42</td>\n",
       "      <td>-236.06</td>\n",
       "      <td>Rest</td>\n",
       "      <td>-98.88</td>\n",
       "      <td>529.56</td>\n",
       "      <td>4.54</td>\n",
       "      <td>379.54</td>\n",
       "      <td>1</td>\n",
       "      <td>1</td>\n",
       "      <td>7.30</td>\n",
       "      <td>High</td>\n",
       "      <td>-15085.87</td>\n",
       "      <td>-12.93</td>\n",
       "      <td>-39.42</td>\n",
       "      <td>1734.58</td>\n",
       "      <td>3616.82</td>\n",
       "    </tr>\n",
       "    <tr>\n",
       "      <th>1</th>\n",
       "      <td>11.72</td>\n",
       "      <td>12.46</td>\n",
       "      <td>-190.06</td>\n",
       "      <td>Rest</td>\n",
       "      <td>-59.22</td>\n",
       "      <td>493.11</td>\n",
       "      <td>0.05</td>\n",
       "      <td>402.78</td>\n",
       "      <td>5</td>\n",
       "      <td>3</td>\n",
       "      <td>-1.28</td>\n",
       "      <td>Very low</td>\n",
       "      <td>-15782.44</td>\n",
       "      <td>-8.55</td>\n",
       "      <td>-35.61</td>\n",
       "      <td>1672.70</td>\n",
       "      <td>3342.88</td>\n",
       "    </tr>\n",
       "    <tr>\n",
       "      <th>2</th>\n",
       "      <td>4.34</td>\n",
       "      <td>2.74</td>\n",
       "      <td>-201.20</td>\n",
       "      <td>UK</td>\n",
       "      <td>-228.48</td>\n",
       "      <td>563.79</td>\n",
       "      <td>1.22</td>\n",
       "      <td>147.35</td>\n",
       "      <td>4</td>\n",
       "      <td>4</td>\n",
       "      <td>8.28</td>\n",
       "      <td>Low</td>\n",
       "      <td>-10526.01</td>\n",
       "      <td>-9.66</td>\n",
       "      <td>-29.10</td>\n",
       "      <td>1462.86</td>\n",
       "      <td>0.00</td>\n",
       "    </tr>\n",
       "    <tr>\n",
       "      <th>3</th>\n",
       "      <td>12.76</td>\n",
       "      <td>2.58</td>\n",
       "      <td>-282.26</td>\n",
       "      <td>UK</td>\n",
       "      <td>-173.28</td>\n",
       "      <td>536.94</td>\n",
       "      <td>0.25</td>\n",
       "      <td>113.49</td>\n",
       "      <td>4</td>\n",
       "      <td>3</td>\n",
       "      <td>6.26</td>\n",
       "      <td>Low</td>\n",
       "      <td>-8327.14</td>\n",
       "      <td>-19.23</td>\n",
       "      <td>-34.59</td>\n",
       "      <td>809.46</td>\n",
       "      <td>1742.65</td>\n",
       "    </tr>\n",
       "    <tr>\n",
       "      <th>4</th>\n",
       "      <td>11.10</td>\n",
       "      <td>9.82</td>\n",
       "      <td>-242.86</td>\n",
       "      <td>USA</td>\n",
       "      <td>-193.14</td>\n",
       "      <td>617.52</td>\n",
       "      <td>9.15</td>\n",
       "      <td>343.64</td>\n",
       "      <td>8</td>\n",
       "      <td>6</td>\n",
       "      <td>-6.88</td>\n",
       "      <td>Very low</td>\n",
       "      <td>-14434.13</td>\n",
       "      <td>-9.45</td>\n",
       "      <td>-46.14</td>\n",
       "      <td>1435.90</td>\n",
       "      <td>373.56</td>\n",
       "    </tr>\n",
       "  </tbody>\n",
       "</table>\n",
       "</div>"
      ],
      "text/plain": [
       "      F1     F2      F3    F4      F5      F6    F7      F8  F9  F10   F11  \\\n",
       "0  16.56  12.42 -236.06  Rest  -98.88  529.56  4.54  379.54   1    1  7.30   \n",
       "1  11.72  12.46 -190.06  Rest  -59.22  493.11  0.05  402.78   5    3 -1.28   \n",
       "2   4.34   2.74 -201.20    UK -228.48  563.79  1.22  147.35   4    4  8.28   \n",
       "3  12.76   2.58 -282.26    UK -173.28  536.94  0.25  113.49   4    3  6.26   \n",
       "4  11.10   9.82 -242.86   USA -193.14  617.52  9.15  343.64   8    6 -6.88   \n",
       "\n",
       "        F12       F13    F14    F15      F16   Target  \n",
       "0      High -15085.87 -12.93 -39.42  1734.58  3616.82  \n",
       "1  Very low -15782.44  -8.55 -35.61  1672.70  3342.88  \n",
       "2       Low -10526.01  -9.66 -29.10  1462.86     0.00  \n",
       "3       Low  -8327.14 -19.23 -34.59   809.46  1742.65  \n",
       "4  Very low -14434.13  -9.45 -46.14  1435.90   373.56  "
      ]
     },
     "execution_count": 80,
     "metadata": {},
     "output_type": "execute_result"
    }
   ],
   "source": [
    "# making data frame from csv file\n",
    "data = pd.read_csv(\"D:\\\\Machine Learning\\CE802_P3_Data\\CE802_P3_Data.csv\")\n",
    "data.head()"
   ]
  },
  {
   "cell_type": "code",
   "execution_count": 81,
   "metadata": {},
   "outputs": [
    {
     "name": "stdout",
     "output_type": "stream",
     "text": [
      "<class 'pandas.core.frame.DataFrame'>\n",
      "RangeIndex: 1500 entries, 0 to 1499\n",
      "Data columns (total 17 columns):\n",
      " #   Column  Non-Null Count  Dtype  \n",
      "---  ------  --------------  -----  \n",
      " 0   F1      1500 non-null   float64\n",
      " 1   F2      1500 non-null   float64\n",
      " 2   F3      1500 non-null   float64\n",
      " 3   F4      1500 non-null   object \n",
      " 4   F5      1500 non-null   float64\n",
      " 5   F6      1500 non-null   float64\n",
      " 6   F7      1500 non-null   float64\n",
      " 7   F8      1500 non-null   float64\n",
      " 8   F9      1500 non-null   int64  \n",
      " 9   F10     1500 non-null   int64  \n",
      " 10  F11     1500 non-null   float64\n",
      " 11  F12     1500 non-null   object \n",
      " 12  F13     1500 non-null   float64\n",
      " 13  F14     1500 non-null   float64\n",
      " 14  F15     1500 non-null   float64\n",
      " 15  F16     1500 non-null   float64\n",
      " 16  Target  1500 non-null   float64\n",
      "dtypes: float64(13), int64(2), object(2)\n",
      "memory usage: 199.3+ KB\n"
     ]
    }
   ],
   "source": [
    "data.info()"
   ]
  },
  {
   "cell_type": "code",
   "execution_count": 82,
   "metadata": {},
   "outputs": [
    {
     "data": {
      "text/plain": [
       "Rest      407\n",
       "UK        380\n",
       "USA       360\n",
       "Europe    353\n",
       "Name: F4, dtype: int64"
      ]
     },
     "execution_count": 82,
     "metadata": {},
     "output_type": "execute_result"
    }
   ],
   "source": [
    "#There are 4 distinct categories.\n",
    "data['F4'].value_counts()"
   ]
  },
  {
   "cell_type": "code",
   "execution_count": 83,
   "metadata": {},
   "outputs": [
    {
     "data": {
      "text/plain": [
       "Very low     312\n",
       "Low          310\n",
       "High         301\n",
       "Very high    290\n",
       "Medium       287\n",
       "Name: F12, dtype: int64"
      ]
     },
     "execution_count": 83,
     "metadata": {},
     "output_type": "execute_result"
    }
   ],
   "source": [
    "#There are 5 distinct values.\n",
    "data['F12'].value_counts()"
   ]
  },
  {
   "cell_type": "code",
   "execution_count": 84,
   "metadata": {},
   "outputs": [],
   "source": [
    "#Using the get_dummies function to transform the categorical values to numeric.\n",
    "\n",
    "data=pd.get_dummies(data, columns=[\"F4\", \"F12\"],drop_first=True)"
   ]
  },
  {
   "cell_type": "code",
   "execution_count": 85,
   "metadata": {},
   "outputs": [],
   "source": [
    "data['TARGET']=data['Target']"
   ]
  },
  {
   "cell_type": "code",
   "execution_count": 86,
   "metadata": {},
   "outputs": [],
   "source": [
    "del data['Target']"
   ]
  },
  {
   "cell_type": "code",
   "execution_count": 87,
   "metadata": {},
   "outputs": [
    {
     "data": {
      "text/html": [
       "<div>\n",
       "<style scoped>\n",
       "    .dataframe tbody tr th:only-of-type {\n",
       "        vertical-align: middle;\n",
       "    }\n",
       "\n",
       "    .dataframe tbody tr th {\n",
       "        vertical-align: top;\n",
       "    }\n",
       "\n",
       "    .dataframe thead th {\n",
       "        text-align: right;\n",
       "    }\n",
       "</style>\n",
       "<table border=\"1\" class=\"dataframe\">\n",
       "  <thead>\n",
       "    <tr style=\"text-align: right;\">\n",
       "      <th></th>\n",
       "      <th>F1</th>\n",
       "      <th>F2</th>\n",
       "      <th>F3</th>\n",
       "      <th>F5</th>\n",
       "      <th>F6</th>\n",
       "      <th>F7</th>\n",
       "      <th>F8</th>\n",
       "      <th>F9</th>\n",
       "      <th>F10</th>\n",
       "      <th>F11</th>\n",
       "      <th>...</th>\n",
       "      <th>F15</th>\n",
       "      <th>F16</th>\n",
       "      <th>F4_Rest</th>\n",
       "      <th>F4_UK</th>\n",
       "      <th>F4_USA</th>\n",
       "      <th>F12_Low</th>\n",
       "      <th>F12_Medium</th>\n",
       "      <th>F12_Very high</th>\n",
       "      <th>F12_Very low</th>\n",
       "      <th>TARGET</th>\n",
       "    </tr>\n",
       "  </thead>\n",
       "  <tbody>\n",
       "    <tr>\n",
       "      <th>0</th>\n",
       "      <td>16.56</td>\n",
       "      <td>12.42</td>\n",
       "      <td>-236.06</td>\n",
       "      <td>-98.88</td>\n",
       "      <td>529.56</td>\n",
       "      <td>4.54</td>\n",
       "      <td>379.54</td>\n",
       "      <td>1</td>\n",
       "      <td>1</td>\n",
       "      <td>7.30</td>\n",
       "      <td>...</td>\n",
       "      <td>-39.42</td>\n",
       "      <td>1734.58</td>\n",
       "      <td>1</td>\n",
       "      <td>0</td>\n",
       "      <td>0</td>\n",
       "      <td>0</td>\n",
       "      <td>0</td>\n",
       "      <td>0</td>\n",
       "      <td>0</td>\n",
       "      <td>3616.82</td>\n",
       "    </tr>\n",
       "    <tr>\n",
       "      <th>1</th>\n",
       "      <td>11.72</td>\n",
       "      <td>12.46</td>\n",
       "      <td>-190.06</td>\n",
       "      <td>-59.22</td>\n",
       "      <td>493.11</td>\n",
       "      <td>0.05</td>\n",
       "      <td>402.78</td>\n",
       "      <td>5</td>\n",
       "      <td>3</td>\n",
       "      <td>-1.28</td>\n",
       "      <td>...</td>\n",
       "      <td>-35.61</td>\n",
       "      <td>1672.70</td>\n",
       "      <td>1</td>\n",
       "      <td>0</td>\n",
       "      <td>0</td>\n",
       "      <td>0</td>\n",
       "      <td>0</td>\n",
       "      <td>0</td>\n",
       "      <td>1</td>\n",
       "      <td>3342.88</td>\n",
       "    </tr>\n",
       "    <tr>\n",
       "      <th>2</th>\n",
       "      <td>4.34</td>\n",
       "      <td>2.74</td>\n",
       "      <td>-201.20</td>\n",
       "      <td>-228.48</td>\n",
       "      <td>563.79</td>\n",
       "      <td>1.22</td>\n",
       "      <td>147.35</td>\n",
       "      <td>4</td>\n",
       "      <td>4</td>\n",
       "      <td>8.28</td>\n",
       "      <td>...</td>\n",
       "      <td>-29.10</td>\n",
       "      <td>1462.86</td>\n",
       "      <td>0</td>\n",
       "      <td>1</td>\n",
       "      <td>0</td>\n",
       "      <td>1</td>\n",
       "      <td>0</td>\n",
       "      <td>0</td>\n",
       "      <td>0</td>\n",
       "      <td>0.00</td>\n",
       "    </tr>\n",
       "    <tr>\n",
       "      <th>3</th>\n",
       "      <td>12.76</td>\n",
       "      <td>2.58</td>\n",
       "      <td>-282.26</td>\n",
       "      <td>-173.28</td>\n",
       "      <td>536.94</td>\n",
       "      <td>0.25</td>\n",
       "      <td>113.49</td>\n",
       "      <td>4</td>\n",
       "      <td>3</td>\n",
       "      <td>6.26</td>\n",
       "      <td>...</td>\n",
       "      <td>-34.59</td>\n",
       "      <td>809.46</td>\n",
       "      <td>0</td>\n",
       "      <td>1</td>\n",
       "      <td>0</td>\n",
       "      <td>1</td>\n",
       "      <td>0</td>\n",
       "      <td>0</td>\n",
       "      <td>0</td>\n",
       "      <td>1742.65</td>\n",
       "    </tr>\n",
       "    <tr>\n",
       "      <th>4</th>\n",
       "      <td>11.10</td>\n",
       "      <td>9.82</td>\n",
       "      <td>-242.86</td>\n",
       "      <td>-193.14</td>\n",
       "      <td>617.52</td>\n",
       "      <td>9.15</td>\n",
       "      <td>343.64</td>\n",
       "      <td>8</td>\n",
       "      <td>6</td>\n",
       "      <td>-6.88</td>\n",
       "      <td>...</td>\n",
       "      <td>-46.14</td>\n",
       "      <td>1435.90</td>\n",
       "      <td>0</td>\n",
       "      <td>0</td>\n",
       "      <td>1</td>\n",
       "      <td>0</td>\n",
       "      <td>0</td>\n",
       "      <td>0</td>\n",
       "      <td>1</td>\n",
       "      <td>373.56</td>\n",
       "    </tr>\n",
       "  </tbody>\n",
       "</table>\n",
       "<p>5 rows × 22 columns</p>\n",
       "</div>"
      ],
      "text/plain": [
       "      F1     F2      F3      F5      F6    F7      F8  F9  F10   F11  ...  \\\n",
       "0  16.56  12.42 -236.06  -98.88  529.56  4.54  379.54   1    1  7.30  ...   \n",
       "1  11.72  12.46 -190.06  -59.22  493.11  0.05  402.78   5    3 -1.28  ...   \n",
       "2   4.34   2.74 -201.20 -228.48  563.79  1.22  147.35   4    4  8.28  ...   \n",
       "3  12.76   2.58 -282.26 -173.28  536.94  0.25  113.49   4    3  6.26  ...   \n",
       "4  11.10   9.82 -242.86 -193.14  617.52  9.15  343.64   8    6 -6.88  ...   \n",
       "\n",
       "     F15      F16  F4_Rest  F4_UK  F4_USA  F12_Low  F12_Medium  F12_Very high  \\\n",
       "0 -39.42  1734.58        1      0       0        0           0              0   \n",
       "1 -35.61  1672.70        1      0       0        0           0              0   \n",
       "2 -29.10  1462.86        0      1       0        1           0              0   \n",
       "3 -34.59   809.46        0      1       0        1           0              0   \n",
       "4 -46.14  1435.90        0      0       1        0           0              0   \n",
       "\n",
       "   F12_Very low   TARGET  \n",
       "0             0  3616.82  \n",
       "1             1  3342.88  \n",
       "2             0     0.00  \n",
       "3             0  1742.65  \n",
       "4             1   373.56  \n",
       "\n",
       "[5 rows x 22 columns]"
      ]
     },
     "execution_count": 87,
     "metadata": {},
     "output_type": "execute_result"
    }
   ],
   "source": [
    "data.head()"
   ]
  },
  {
   "cell_type": "markdown",
   "metadata": {},
   "source": [
    "#### Create X and Y Metrics"
   ]
  },
  {
   "cell_type": "code",
   "execution_count": 88,
   "metadata": {},
   "outputs": [],
   "source": [
    "x=data.drop(['TARGET'],axis='columns')\n",
    "y=data['TARGET']"
   ]
  },
  {
   "cell_type": "markdown",
   "metadata": {},
   "source": [
    "#### Data Split"
   ]
  },
  {
   "cell_type": "code",
   "execution_count": 89,
   "metadata": {},
   "outputs": [],
   "source": [
    "from sklearn.model_selection import train_test_split\n",
    "X_train, X_test, y_train,y_test = train_test_split(x, y, test_size=0.20, random_state=0)"
   ]
  },
  {
   "cell_type": "code",
   "execution_count": 90,
   "metadata": {},
   "outputs": [
    {
     "name": "stderr",
     "output_type": "stream",
     "text": [
      "C:\\Users\\user\\miniconda3\\envs\\ce802\\lib\\site-packages\\sklearn\\preprocessing\\data.py:645: DataConversionWarning: Data with input dtype uint8, int64, float64 were all converted to float64 by StandardScaler.\n",
      "  return self.partial_fit(X, y)\n",
      "C:\\Users\\user\\miniconda3\\envs\\ce802\\lib\\site-packages\\sklearn\\base.py:464: DataConversionWarning: Data with input dtype uint8, int64, float64 were all converted to float64 by StandardScaler.\n",
      "  return self.fit(X, **fit_params).transform(X)\n"
     ]
    },
    {
     "data": {
      "text/plain": [
       "(1200, 21)"
      ]
     },
     "execution_count": 90,
     "metadata": {},
     "output_type": "execute_result"
    }
   ],
   "source": [
    "from sklearn import preprocessing \n",
    "from sklearn.preprocessing import StandardScaler\n",
    "\n",
    "X_train=StandardScaler(with_mean=False).fit_transform(X_train)\n",
    "X_train.shape"
   ]
  },
  {
   "cell_type": "code",
   "execution_count": 91,
   "metadata": {},
   "outputs": [
    {
     "name": "stderr",
     "output_type": "stream",
     "text": [
      "C:\\Users\\user\\miniconda3\\envs\\ce802\\lib\\site-packages\\sklearn\\preprocessing\\data.py:645: DataConversionWarning: Data with input dtype uint8, int64, float64 were all converted to float64 by StandardScaler.\n",
      "  return self.partial_fit(X, y)\n",
      "C:\\Users\\user\\miniconda3\\envs\\ce802\\lib\\site-packages\\sklearn\\base.py:464: DataConversionWarning: Data with input dtype uint8, int64, float64 were all converted to float64 by StandardScaler.\n",
      "  return self.fit(X, **fit_params).transform(X)\n"
     ]
    },
    {
     "data": {
      "text/plain": [
       "(300, 21)"
      ]
     },
     "execution_count": 91,
     "metadata": {},
     "output_type": "execute_result"
    }
   ],
   "source": [
    "X_test=StandardScaler(with_mean=False).fit_transform(X_test)\n",
    "X_test.shape"
   ]
  },
  {
   "cell_type": "markdown",
   "metadata": {},
   "source": [
    "# Testing the model with new data"
   ]
  },
  {
   "cell_type": "code",
   "execution_count": 92,
   "metadata": {},
   "outputs": [],
   "source": [
    "test_data = pd.read_csv(\"D:\\\\Machine Learning\\CE802_P3_Data\\CE802_P3_Test.csv\")"
   ]
  },
  {
   "cell_type": "code",
   "execution_count": 93,
   "metadata": {},
   "outputs": [
    {
     "data": {
      "text/html": [
       "<div>\n",
       "<style scoped>\n",
       "    .dataframe tbody tr th:only-of-type {\n",
       "        vertical-align: middle;\n",
       "    }\n",
       "\n",
       "    .dataframe tbody tr th {\n",
       "        vertical-align: top;\n",
       "    }\n",
       "\n",
       "    .dataframe thead th {\n",
       "        text-align: right;\n",
       "    }\n",
       "</style>\n",
       "<table border=\"1\" class=\"dataframe\">\n",
       "  <thead>\n",
       "    <tr style=\"text-align: right;\">\n",
       "      <th></th>\n",
       "      <th>F1</th>\n",
       "      <th>F2</th>\n",
       "      <th>F3</th>\n",
       "      <th>F4</th>\n",
       "      <th>F5</th>\n",
       "      <th>F6</th>\n",
       "      <th>F7</th>\n",
       "      <th>F8</th>\n",
       "      <th>F9</th>\n",
       "      <th>F10</th>\n",
       "      <th>F11</th>\n",
       "      <th>F12</th>\n",
       "      <th>F13</th>\n",
       "      <th>F14</th>\n",
       "      <th>F15</th>\n",
       "      <th>F16</th>\n",
       "      <th>Target</th>\n",
       "    </tr>\n",
       "  </thead>\n",
       "  <tbody>\n",
       "    <tr>\n",
       "      <th>0</th>\n",
       "      <td>28.70</td>\n",
       "      <td>0.82</td>\n",
       "      <td>-115.06</td>\n",
       "      <td>USA</td>\n",
       "      <td>-280.95</td>\n",
       "      <td>581.10</td>\n",
       "      <td>0.06</td>\n",
       "      <td>214.35</td>\n",
       "      <td>2</td>\n",
       "      <td>2</td>\n",
       "      <td>-0.88</td>\n",
       "      <td>Low</td>\n",
       "      <td>-14794.01</td>\n",
       "      <td>-15.09</td>\n",
       "      <td>-35.61</td>\n",
       "      <td>1578.68</td>\n",
       "      <td>NaN</td>\n",
       "    </tr>\n",
       "    <tr>\n",
       "      <th>1</th>\n",
       "      <td>5.40</td>\n",
       "      <td>6.90</td>\n",
       "      <td>-170.24</td>\n",
       "      <td>Rest</td>\n",
       "      <td>-228.00</td>\n",
       "      <td>330.54</td>\n",
       "      <td>0.31</td>\n",
       "      <td>-164.98</td>\n",
       "      <td>1</td>\n",
       "      <td>9</td>\n",
       "      <td>0.28</td>\n",
       "      <td>Medium</td>\n",
       "      <td>-11632.88</td>\n",
       "      <td>0.72</td>\n",
       "      <td>-29.73</td>\n",
       "      <td>1647.02</td>\n",
       "      <td>NaN</td>\n",
       "    </tr>\n",
       "    <tr>\n",
       "      <th>2</th>\n",
       "      <td>21.96</td>\n",
       "      <td>4.40</td>\n",
       "      <td>-219.12</td>\n",
       "      <td>Rest</td>\n",
       "      <td>-59.67</td>\n",
       "      <td>662.28</td>\n",
       "      <td>4.98</td>\n",
       "      <td>281.54</td>\n",
       "      <td>6</td>\n",
       "      <td>5</td>\n",
       "      <td>5.82</td>\n",
       "      <td>Low</td>\n",
       "      <td>-12631.29</td>\n",
       "      <td>-23.61</td>\n",
       "      <td>-32.73</td>\n",
       "      <td>1449.14</td>\n",
       "      <td>NaN</td>\n",
       "    </tr>\n",
       "    <tr>\n",
       "      <th>3</th>\n",
       "      <td>10.52</td>\n",
       "      <td>1.02</td>\n",
       "      <td>-184.14</td>\n",
       "      <td>UK</td>\n",
       "      <td>-211.23</td>\n",
       "      <td>506.55</td>\n",
       "      <td>0.57</td>\n",
       "      <td>-311.96</td>\n",
       "      <td>7</td>\n",
       "      <td>5</td>\n",
       "      <td>1.92</td>\n",
       "      <td>High</td>\n",
       "      <td>-26664.88</td>\n",
       "      <td>1.80</td>\n",
       "      <td>-22.92</td>\n",
       "      <td>911.98</td>\n",
       "      <td>NaN</td>\n",
       "    </tr>\n",
       "    <tr>\n",
       "      <th>4</th>\n",
       "      <td>2.00</td>\n",
       "      <td>0.58</td>\n",
       "      <td>-190.56</td>\n",
       "      <td>Rest</td>\n",
       "      <td>-284.82</td>\n",
       "      <td>649.41</td>\n",
       "      <td>0.05</td>\n",
       "      <td>291.47</td>\n",
       "      <td>8</td>\n",
       "      <td>3</td>\n",
       "      <td>-0.02</td>\n",
       "      <td>Low</td>\n",
       "      <td>-9901.41</td>\n",
       "      <td>-13.47</td>\n",
       "      <td>-48.81</td>\n",
       "      <td>2251.04</td>\n",
       "      <td>NaN</td>\n",
       "    </tr>\n",
       "  </tbody>\n",
       "</table>\n",
       "</div>"
      ],
      "text/plain": [
       "      F1    F2      F3    F4      F5      F6    F7      F8  F9  F10   F11  \\\n",
       "0  28.70  0.82 -115.06   USA -280.95  581.10  0.06  214.35   2    2 -0.88   \n",
       "1   5.40  6.90 -170.24  Rest -228.00  330.54  0.31 -164.98   1    9  0.28   \n",
       "2  21.96  4.40 -219.12  Rest  -59.67  662.28  4.98  281.54   6    5  5.82   \n",
       "3  10.52  1.02 -184.14    UK -211.23  506.55  0.57 -311.96   7    5  1.92   \n",
       "4   2.00  0.58 -190.56  Rest -284.82  649.41  0.05  291.47   8    3 -0.02   \n",
       "\n",
       "      F12       F13    F14    F15      F16  Target  \n",
       "0     Low -14794.01 -15.09 -35.61  1578.68     NaN  \n",
       "1  Medium -11632.88   0.72 -29.73  1647.02     NaN  \n",
       "2     Low -12631.29 -23.61 -32.73  1449.14     NaN  \n",
       "3    High -26664.88   1.80 -22.92   911.98     NaN  \n",
       "4     Low  -9901.41 -13.47 -48.81  2251.04     NaN  "
      ]
     },
     "execution_count": 93,
     "metadata": {},
     "output_type": "execute_result"
    }
   ],
   "source": [
    "test_data.head()"
   ]
  },
  {
   "cell_type": "code",
   "execution_count": 94,
   "metadata": {},
   "outputs": [],
   "source": [
    "#Using the get_dummies function to transform the categorical values to numeric.\n",
    "\n",
    "test_set=pd.get_dummies(test_data, columns=[\"F4\", \"F12\"],drop_first=True)"
   ]
  },
  {
   "cell_type": "code",
   "execution_count": 95,
   "metadata": {},
   "outputs": [
    {
     "data": {
      "text/html": [
       "<div>\n",
       "<style scoped>\n",
       "    .dataframe tbody tr th:only-of-type {\n",
       "        vertical-align: middle;\n",
       "    }\n",
       "\n",
       "    .dataframe tbody tr th {\n",
       "        vertical-align: top;\n",
       "    }\n",
       "\n",
       "    .dataframe thead th {\n",
       "        text-align: right;\n",
       "    }\n",
       "</style>\n",
       "<table border=\"1\" class=\"dataframe\">\n",
       "  <thead>\n",
       "    <tr style=\"text-align: right;\">\n",
       "      <th></th>\n",
       "      <th>F1</th>\n",
       "      <th>F2</th>\n",
       "      <th>F3</th>\n",
       "      <th>F5</th>\n",
       "      <th>F6</th>\n",
       "      <th>F7</th>\n",
       "      <th>F8</th>\n",
       "      <th>F9</th>\n",
       "      <th>F10</th>\n",
       "      <th>F11</th>\n",
       "      <th>...</th>\n",
       "      <th>F15</th>\n",
       "      <th>F16</th>\n",
       "      <th>Target</th>\n",
       "      <th>F4_Rest</th>\n",
       "      <th>F4_UK</th>\n",
       "      <th>F4_USA</th>\n",
       "      <th>F12_Low</th>\n",
       "      <th>F12_Medium</th>\n",
       "      <th>F12_Very high</th>\n",
       "      <th>F12_Very low</th>\n",
       "    </tr>\n",
       "  </thead>\n",
       "  <tbody>\n",
       "    <tr>\n",
       "      <th>0</th>\n",
       "      <td>28.70</td>\n",
       "      <td>0.82</td>\n",
       "      <td>-115.06</td>\n",
       "      <td>-280.95</td>\n",
       "      <td>581.10</td>\n",
       "      <td>0.06</td>\n",
       "      <td>214.35</td>\n",
       "      <td>2</td>\n",
       "      <td>2</td>\n",
       "      <td>-0.88</td>\n",
       "      <td>...</td>\n",
       "      <td>-35.61</td>\n",
       "      <td>1578.68</td>\n",
       "      <td>NaN</td>\n",
       "      <td>0</td>\n",
       "      <td>0</td>\n",
       "      <td>1</td>\n",
       "      <td>1</td>\n",
       "      <td>0</td>\n",
       "      <td>0</td>\n",
       "      <td>0</td>\n",
       "    </tr>\n",
       "    <tr>\n",
       "      <th>1</th>\n",
       "      <td>5.40</td>\n",
       "      <td>6.90</td>\n",
       "      <td>-170.24</td>\n",
       "      <td>-228.00</td>\n",
       "      <td>330.54</td>\n",
       "      <td>0.31</td>\n",
       "      <td>-164.98</td>\n",
       "      <td>1</td>\n",
       "      <td>9</td>\n",
       "      <td>0.28</td>\n",
       "      <td>...</td>\n",
       "      <td>-29.73</td>\n",
       "      <td>1647.02</td>\n",
       "      <td>NaN</td>\n",
       "      <td>1</td>\n",
       "      <td>0</td>\n",
       "      <td>0</td>\n",
       "      <td>0</td>\n",
       "      <td>1</td>\n",
       "      <td>0</td>\n",
       "      <td>0</td>\n",
       "    </tr>\n",
       "    <tr>\n",
       "      <th>2</th>\n",
       "      <td>21.96</td>\n",
       "      <td>4.40</td>\n",
       "      <td>-219.12</td>\n",
       "      <td>-59.67</td>\n",
       "      <td>662.28</td>\n",
       "      <td>4.98</td>\n",
       "      <td>281.54</td>\n",
       "      <td>6</td>\n",
       "      <td>5</td>\n",
       "      <td>5.82</td>\n",
       "      <td>...</td>\n",
       "      <td>-32.73</td>\n",
       "      <td>1449.14</td>\n",
       "      <td>NaN</td>\n",
       "      <td>1</td>\n",
       "      <td>0</td>\n",
       "      <td>0</td>\n",
       "      <td>1</td>\n",
       "      <td>0</td>\n",
       "      <td>0</td>\n",
       "      <td>0</td>\n",
       "    </tr>\n",
       "    <tr>\n",
       "      <th>3</th>\n",
       "      <td>10.52</td>\n",
       "      <td>1.02</td>\n",
       "      <td>-184.14</td>\n",
       "      <td>-211.23</td>\n",
       "      <td>506.55</td>\n",
       "      <td>0.57</td>\n",
       "      <td>-311.96</td>\n",
       "      <td>7</td>\n",
       "      <td>5</td>\n",
       "      <td>1.92</td>\n",
       "      <td>...</td>\n",
       "      <td>-22.92</td>\n",
       "      <td>911.98</td>\n",
       "      <td>NaN</td>\n",
       "      <td>0</td>\n",
       "      <td>1</td>\n",
       "      <td>0</td>\n",
       "      <td>0</td>\n",
       "      <td>0</td>\n",
       "      <td>0</td>\n",
       "      <td>0</td>\n",
       "    </tr>\n",
       "    <tr>\n",
       "      <th>4</th>\n",
       "      <td>2.00</td>\n",
       "      <td>0.58</td>\n",
       "      <td>-190.56</td>\n",
       "      <td>-284.82</td>\n",
       "      <td>649.41</td>\n",
       "      <td>0.05</td>\n",
       "      <td>291.47</td>\n",
       "      <td>8</td>\n",
       "      <td>3</td>\n",
       "      <td>-0.02</td>\n",
       "      <td>...</td>\n",
       "      <td>-48.81</td>\n",
       "      <td>2251.04</td>\n",
       "      <td>NaN</td>\n",
       "      <td>1</td>\n",
       "      <td>0</td>\n",
       "      <td>0</td>\n",
       "      <td>1</td>\n",
       "      <td>0</td>\n",
       "      <td>0</td>\n",
       "      <td>0</td>\n",
       "    </tr>\n",
       "  </tbody>\n",
       "</table>\n",
       "<p>5 rows × 22 columns</p>\n",
       "</div>"
      ],
      "text/plain": [
       "      F1    F2      F3      F5      F6    F7      F8  F9  F10   F11  ...  \\\n",
       "0  28.70  0.82 -115.06 -280.95  581.10  0.06  214.35   2    2 -0.88  ...   \n",
       "1   5.40  6.90 -170.24 -228.00  330.54  0.31 -164.98   1    9  0.28  ...   \n",
       "2  21.96  4.40 -219.12  -59.67  662.28  4.98  281.54   6    5  5.82  ...   \n",
       "3  10.52  1.02 -184.14 -211.23  506.55  0.57 -311.96   7    5  1.92  ...   \n",
       "4   2.00  0.58 -190.56 -284.82  649.41  0.05  291.47   8    3 -0.02  ...   \n",
       "\n",
       "     F15      F16  Target  F4_Rest  F4_UK  F4_USA  F12_Low  F12_Medium  \\\n",
       "0 -35.61  1578.68     NaN        0      0       1        1           0   \n",
       "1 -29.73  1647.02     NaN        1      0       0        0           1   \n",
       "2 -32.73  1449.14     NaN        1      0       0        1           0   \n",
       "3 -22.92   911.98     NaN        0      1       0        0           0   \n",
       "4 -48.81  2251.04     NaN        1      0       0        1           0   \n",
       "\n",
       "   F12_Very high  F12_Very low  \n",
       "0              0             0  \n",
       "1              0             0  \n",
       "2              0             0  \n",
       "3              0             0  \n",
       "4              0             0  \n",
       "\n",
       "[5 rows x 22 columns]"
      ]
     },
     "execution_count": 95,
     "metadata": {},
     "output_type": "execute_result"
    }
   ],
   "source": [
    "test_set.head()"
   ]
  },
  {
   "cell_type": "code",
   "execution_count": 96,
   "metadata": {},
   "outputs": [],
   "source": [
    "del test_set['Target']"
   ]
  },
  {
   "cell_type": "code",
   "execution_count": 97,
   "metadata": {},
   "outputs": [
    {
     "data": {
      "text/plain": [
       "(1500, 21)"
      ]
     },
     "execution_count": 97,
     "metadata": {},
     "output_type": "execute_result"
    }
   ],
   "source": [
    "test_set.shape"
   ]
  },
  {
   "cell_type": "markdown",
   "metadata": {},
   "source": [
    "# Using Linear Regression for Testing the data."
   ]
  },
  {
   "cell_type": "code",
   "execution_count": 98,
   "metadata": {},
   "outputs": [
    {
     "name": "stderr",
     "output_type": "stream",
     "text": [
      "C:\\Users\\user\\miniconda3\\envs\\ce802\\lib\\site-packages\\sklearn\\preprocessing\\data.py:645: DataConversionWarning: Data with input dtype uint8, int64, float64 were all converted to float64 by StandardScaler.\n",
      "  return self.partial_fit(X, y)\n",
      "C:\\Users\\user\\miniconda3\\envs\\ce802\\lib\\site-packages\\sklearn\\base.py:464: DataConversionWarning: Data with input dtype uint8, int64, float64 were all converted to float64 by StandardScaler.\n",
      "  return self.fit(X, **fit_params).transform(X)\n"
     ]
    }
   ],
   "source": [
    "#Standardization of the data\n",
    "\n",
    "test_std=StandardScaler(with_mean=False).fit_transform(test_set)"
   ]
  },
  {
   "cell_type": "code",
   "execution_count": 107,
   "metadata": {},
   "outputs": [],
   "source": [
    "import sklearn\n",
    "from sklearn import linear_model"
   ]
  },
  {
   "cell_type": "markdown",
   "metadata": {},
   "source": [
    "##### Instantiate Random Forest Classifier"
   ]
  },
  {
   "cell_type": "code",
   "execution_count": 108,
   "metadata": {},
   "outputs": [],
   "source": [
    "model=linear_model.LinearRegression()"
   ]
  },
  {
   "cell_type": "markdown",
   "metadata": {},
   "source": [
    "##### Fit the Linear Regression to the training data"
   ]
  },
  {
   "cell_type": "code",
   "execution_count": 109,
   "metadata": {},
   "outputs": [
    {
     "data": {
      "text/plain": [
       "LinearRegression(copy_X=True, fit_intercept=True, n_jobs=None,\n",
       "         normalize=False)"
      ]
     },
     "execution_count": 109,
     "metadata": {},
     "output_type": "execute_result"
    }
   ],
   "source": [
    "model.fit(X_train,y_train)"
   ]
  },
  {
   "cell_type": "markdown",
   "metadata": {},
   "source": [
    "##### Do prediction using our test data"
   ]
  },
  {
   "cell_type": "code",
   "execution_count": 110,
   "metadata": {},
   "outputs": [],
   "source": [
    "# Predict the new dataset.\n",
    "\n",
    "Target=model.predict(test_std)"
   ]
  },
  {
   "cell_type": "code",
   "execution_count": 111,
   "metadata": {},
   "outputs": [
    {
     "data": {
      "text/plain": [
       "array([ 810.98843859,  320.25821507, 2717.3348305 , ...,  840.61740937,\n",
       "        -25.27505902,   29.93177781])"
      ]
     },
     "execution_count": 111,
     "metadata": {},
     "output_type": "execute_result"
    }
   ],
   "source": [
    "Target"
   ]
  },
  {
   "cell_type": "code",
   "execution_count": 104,
   "metadata": {},
   "outputs": [],
   "source": [
    "test_data['Target']=Target"
   ]
  },
  {
   "cell_type": "code",
   "execution_count": 105,
   "metadata": {},
   "outputs": [
    {
     "data": {
      "text/html": [
       "<div>\n",
       "<style scoped>\n",
       "    .dataframe tbody tr th:only-of-type {\n",
       "        vertical-align: middle;\n",
       "    }\n",
       "\n",
       "    .dataframe tbody tr th {\n",
       "        vertical-align: top;\n",
       "    }\n",
       "\n",
       "    .dataframe thead th {\n",
       "        text-align: right;\n",
       "    }\n",
       "</style>\n",
       "<table border=\"1\" class=\"dataframe\">\n",
       "  <thead>\n",
       "    <tr style=\"text-align: right;\">\n",
       "      <th></th>\n",
       "      <th>F1</th>\n",
       "      <th>F2</th>\n",
       "      <th>F3</th>\n",
       "      <th>F4</th>\n",
       "      <th>F5</th>\n",
       "      <th>F6</th>\n",
       "      <th>F7</th>\n",
       "      <th>F8</th>\n",
       "      <th>F9</th>\n",
       "      <th>F10</th>\n",
       "      <th>F11</th>\n",
       "      <th>F12</th>\n",
       "      <th>F13</th>\n",
       "      <th>F14</th>\n",
       "      <th>F15</th>\n",
       "      <th>F16</th>\n",
       "      <th>Target</th>\n",
       "    </tr>\n",
       "  </thead>\n",
       "  <tbody>\n",
       "    <tr>\n",
       "      <th>0</th>\n",
       "      <td>28.70</td>\n",
       "      <td>0.82</td>\n",
       "      <td>-115.06</td>\n",
       "      <td>USA</td>\n",
       "      <td>-280.95</td>\n",
       "      <td>581.10</td>\n",
       "      <td>0.06</td>\n",
       "      <td>214.35</td>\n",
       "      <td>2</td>\n",
       "      <td>2</td>\n",
       "      <td>-0.88</td>\n",
       "      <td>Low</td>\n",
       "      <td>-14794.01</td>\n",
       "      <td>-15.09</td>\n",
       "      <td>-35.61</td>\n",
       "      <td>1578.68</td>\n",
       "      <td>810.988439</td>\n",
       "    </tr>\n",
       "    <tr>\n",
       "      <th>1</th>\n",
       "      <td>5.40</td>\n",
       "      <td>6.90</td>\n",
       "      <td>-170.24</td>\n",
       "      <td>Rest</td>\n",
       "      <td>-228.00</td>\n",
       "      <td>330.54</td>\n",
       "      <td>0.31</td>\n",
       "      <td>-164.98</td>\n",
       "      <td>1</td>\n",
       "      <td>9</td>\n",
       "      <td>0.28</td>\n",
       "      <td>Medium</td>\n",
       "      <td>-11632.88</td>\n",
       "      <td>0.72</td>\n",
       "      <td>-29.73</td>\n",
       "      <td>1647.02</td>\n",
       "      <td>320.258215</td>\n",
       "    </tr>\n",
       "    <tr>\n",
       "      <th>2</th>\n",
       "      <td>21.96</td>\n",
       "      <td>4.40</td>\n",
       "      <td>-219.12</td>\n",
       "      <td>Rest</td>\n",
       "      <td>-59.67</td>\n",
       "      <td>662.28</td>\n",
       "      <td>4.98</td>\n",
       "      <td>281.54</td>\n",
       "      <td>6</td>\n",
       "      <td>5</td>\n",
       "      <td>5.82</td>\n",
       "      <td>Low</td>\n",
       "      <td>-12631.29</td>\n",
       "      <td>-23.61</td>\n",
       "      <td>-32.73</td>\n",
       "      <td>1449.14</td>\n",
       "      <td>2717.334831</td>\n",
       "    </tr>\n",
       "    <tr>\n",
       "      <th>3</th>\n",
       "      <td>10.52</td>\n",
       "      <td>1.02</td>\n",
       "      <td>-184.14</td>\n",
       "      <td>UK</td>\n",
       "      <td>-211.23</td>\n",
       "      <td>506.55</td>\n",
       "      <td>0.57</td>\n",
       "      <td>-311.96</td>\n",
       "      <td>7</td>\n",
       "      <td>5</td>\n",
       "      <td>1.92</td>\n",
       "      <td>High</td>\n",
       "      <td>-26664.88</td>\n",
       "      <td>1.80</td>\n",
       "      <td>-22.92</td>\n",
       "      <td>911.98</td>\n",
       "      <td>1895.567701</td>\n",
       "    </tr>\n",
       "    <tr>\n",
       "      <th>4</th>\n",
       "      <td>2.00</td>\n",
       "      <td>0.58</td>\n",
       "      <td>-190.56</td>\n",
       "      <td>Rest</td>\n",
       "      <td>-284.82</td>\n",
       "      <td>649.41</td>\n",
       "      <td>0.05</td>\n",
       "      <td>291.47</td>\n",
       "      <td>8</td>\n",
       "      <td>3</td>\n",
       "      <td>-0.02</td>\n",
       "      <td>Low</td>\n",
       "      <td>-9901.41</td>\n",
       "      <td>-13.47</td>\n",
       "      <td>-48.81</td>\n",
       "      <td>2251.04</td>\n",
       "      <td>236.683717</td>\n",
       "    </tr>\n",
       "  </tbody>\n",
       "</table>\n",
       "</div>"
      ],
      "text/plain": [
       "      F1    F2      F3    F4      F5      F6    F7      F8  F9  F10   F11  \\\n",
       "0  28.70  0.82 -115.06   USA -280.95  581.10  0.06  214.35   2    2 -0.88   \n",
       "1   5.40  6.90 -170.24  Rest -228.00  330.54  0.31 -164.98   1    9  0.28   \n",
       "2  21.96  4.40 -219.12  Rest  -59.67  662.28  4.98  281.54   6    5  5.82   \n",
       "3  10.52  1.02 -184.14    UK -211.23  506.55  0.57 -311.96   7    5  1.92   \n",
       "4   2.00  0.58 -190.56  Rest -284.82  649.41  0.05  291.47   8    3 -0.02   \n",
       "\n",
       "      F12       F13    F14    F15      F16       Target  \n",
       "0     Low -14794.01 -15.09 -35.61  1578.68   810.988439  \n",
       "1  Medium -11632.88   0.72 -29.73  1647.02   320.258215  \n",
       "2     Low -12631.29 -23.61 -32.73  1449.14  2717.334831  \n",
       "3    High -26664.88   1.80 -22.92   911.98  1895.567701  \n",
       "4     Low  -9901.41 -13.47 -48.81  2251.04   236.683717  "
      ]
     },
     "execution_count": 105,
     "metadata": {},
     "output_type": "execute_result"
    }
   ],
   "source": [
    "test_data.head()"
   ]
  },
  {
   "cell_type": "markdown",
   "metadata": {},
   "source": [
    "##### Generate Test Data CSV"
   ]
  },
  {
   "cell_type": "code",
   "execution_count": 106,
   "metadata": {},
   "outputs": [],
   "source": [
    "CE802_P3_Test= test_data.to_csv(r'D:\\Machine Learning\\CE802_P3_Data\\Test Output\\CE802_P3_Test.csv')"
   ]
  }
 ],
 "metadata": {
  "kernelspec": {
   "display_name": "Python 3",
   "language": "python",
   "name": "python3"
  },
  "language_info": {
   "codemirror_mode": {
    "name": "ipython",
    "version": 3
   },
   "file_extension": ".py",
   "mimetype": "text/x-python",
   "name": "python",
   "nbconvert_exporter": "python",
   "pygments_lexer": "ipython3",
   "version": "3.7.9"
  }
 },
 "nbformat": 4,
 "nbformat_minor": 4
}
