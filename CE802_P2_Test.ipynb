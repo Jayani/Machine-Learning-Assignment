{
 "cells": [
  {
   "cell_type": "markdown",
   "metadata": {},
   "source": [
    "# 2 b) Prediction on a hold-out test set"
   ]
  },
  {
   "cell_type": "markdown",
   "metadata": {},
   "source": [
    "##### Import Libraries"
   ]
  },
  {
   "cell_type": "code",
   "execution_count": 24,
   "metadata": {},
   "outputs": [],
   "source": [
    "import pandas as pd\n",
    "import numpy as np\n",
    "import matplotlib.pyplot as plt"
   ]
  },
  {
   "cell_type": "markdown",
   "metadata": {},
   "source": [
    "##### Load DataSet"
   ]
  },
  {
   "cell_type": "code",
   "execution_count": 25,
   "metadata": {},
   "outputs": [
    {
     "data": {
      "text/html": [
       "<div>\n",
       "<style scoped>\n",
       "    .dataframe tbody tr th:only-of-type {\n",
       "        vertical-align: middle;\n",
       "    }\n",
       "\n",
       "    .dataframe tbody tr th {\n",
       "        vertical-align: top;\n",
       "    }\n",
       "\n",
       "    .dataframe thead th {\n",
       "        text-align: right;\n",
       "    }\n",
       "</style>\n",
       "<table border=\"1\" class=\"dataframe\">\n",
       "  <thead>\n",
       "    <tr style=\"text-align: right;\">\n",
       "      <th></th>\n",
       "      <th>F1</th>\n",
       "      <th>F2</th>\n",
       "      <th>F3</th>\n",
       "      <th>F4</th>\n",
       "      <th>F5</th>\n",
       "      <th>F6</th>\n",
       "      <th>F7</th>\n",
       "      <th>F8</th>\n",
       "      <th>F9</th>\n",
       "      <th>F10</th>\n",
       "      <th>F11</th>\n",
       "      <th>F12</th>\n",
       "      <th>F13</th>\n",
       "      <th>F14</th>\n",
       "      <th>F15</th>\n",
       "      <th>Class</th>\n",
       "    </tr>\n",
       "  </thead>\n",
       "  <tbody>\n",
       "    <tr>\n",
       "      <th>0</th>\n",
       "      <td>30</td>\n",
       "      <td>186.88</td>\n",
       "      <td>-21.06</td>\n",
       "      <td>-17.68</td>\n",
       "      <td>14.20</td>\n",
       "      <td>563.22</td>\n",
       "      <td>-3.29</td>\n",
       "      <td>-5.32</td>\n",
       "      <td>-18.90</td>\n",
       "      <td>9.20</td>\n",
       "      <td>-9.44</td>\n",
       "      <td>10.89</td>\n",
       "      <td>-8.54</td>\n",
       "      <td>510</td>\n",
       "      <td>NaN</td>\n",
       "      <td>False</td>\n",
       "    </tr>\n",
       "    <tr>\n",
       "      <th>1</th>\n",
       "      <td>30</td>\n",
       "      <td>196.88</td>\n",
       "      <td>-22.89</td>\n",
       "      <td>-19.38</td>\n",
       "      <td>19.70</td>\n",
       "      <td>353.22</td>\n",
       "      <td>-5.71</td>\n",
       "      <td>-1.48</td>\n",
       "      <td>-18.33</td>\n",
       "      <td>7.15</td>\n",
       "      <td>-8.58</td>\n",
       "      <td>15.89</td>\n",
       "      <td>-8.44</td>\n",
       "      <td>760</td>\n",
       "      <td>7.22</td>\n",
       "      <td>False</td>\n",
       "    </tr>\n",
       "    <tr>\n",
       "      <th>2</th>\n",
       "      <td>30</td>\n",
       "      <td>96.88</td>\n",
       "      <td>-19.65</td>\n",
       "      <td>-16.46</td>\n",
       "      <td>17.30</td>\n",
       "      <td>398.22</td>\n",
       "      <td>-5.19</td>\n",
       "      <td>-1.96</td>\n",
       "      <td>-14.64</td>\n",
       "      <td>7.10</td>\n",
       "      <td>-9.18</td>\n",
       "      <td>20.89</td>\n",
       "      <td>-8.79</td>\n",
       "      <td>610</td>\n",
       "      <td>7.69</td>\n",
       "      <td>False</td>\n",
       "    </tr>\n",
       "    <tr>\n",
       "      <th>3</th>\n",
       "      <td>3</td>\n",
       "      <td>216.88</td>\n",
       "      <td>-33.24</td>\n",
       "      <td>-27.80</td>\n",
       "      <td>0.84</td>\n",
       "      <td>344.22</td>\n",
       "      <td>-0.86</td>\n",
       "      <td>-6.89</td>\n",
       "      <td>-14.73</td>\n",
       "      <td>0.09</td>\n",
       "      <td>-17.98</td>\n",
       "      <td>7.89</td>\n",
       "      <td>-3.78</td>\n",
       "      <td>32</td>\n",
       "      <td>NaN</td>\n",
       "      <td>False</td>\n",
       "    </tr>\n",
       "    <tr>\n",
       "      <th>4</th>\n",
       "      <td>3</td>\n",
       "      <td>198.88</td>\n",
       "      <td>-32.52</td>\n",
       "      <td>-26.26</td>\n",
       "      <td>1.52</td>\n",
       "      <td>278.22</td>\n",
       "      <td>0.08</td>\n",
       "      <td>-7.73</td>\n",
       "      <td>-13.62</td>\n",
       "      <td>1.91</td>\n",
       "      <td>-23.94</td>\n",
       "      <td>7.89</td>\n",
       "      <td>-3.25</td>\n",
       "      <td>36</td>\n",
       "      <td>NaN</td>\n",
       "      <td>True</td>\n",
       "    </tr>\n",
       "  </tbody>\n",
       "</table>\n",
       "</div>"
      ],
      "text/plain": [
       "   F1      F2     F3     F4     F5      F6    F7    F8     F9   F10    F11  \\\n",
       "0  30  186.88 -21.06 -17.68  14.20  563.22 -3.29 -5.32 -18.90  9.20  -9.44   \n",
       "1  30  196.88 -22.89 -19.38  19.70  353.22 -5.71 -1.48 -18.33  7.15  -8.58   \n",
       "2  30   96.88 -19.65 -16.46  17.30  398.22 -5.19 -1.96 -14.64  7.10  -9.18   \n",
       "3   3  216.88 -33.24 -27.80   0.84  344.22 -0.86 -6.89 -14.73  0.09 -17.98   \n",
       "4   3  198.88 -32.52 -26.26   1.52  278.22  0.08 -7.73 -13.62  1.91 -23.94   \n",
       "\n",
       "     F12   F13  F14   F15  Class  \n",
       "0  10.89 -8.54  510   NaN  False  \n",
       "1  15.89 -8.44  760  7.22  False  \n",
       "2  20.89 -8.79  610  7.69  False  \n",
       "3   7.89 -3.78   32   NaN  False  \n",
       "4   7.89 -3.25   36   NaN   True  "
      ]
     },
     "execution_count": 25,
     "metadata": {},
     "output_type": "execute_result"
    }
   ],
   "source": [
    "data = pd.read_csv(\"D:\\\\Machine Learning\\CE802_P2_Data\\CE802_P2_Data.csv\")\n",
    "data.head()"
   ]
  },
  {
   "cell_type": "code",
   "execution_count": 26,
   "metadata": {},
   "outputs": [
    {
     "name": "stdout",
     "output_type": "stream",
     "text": [
      "<class 'pandas.core.frame.DataFrame'>\n",
      "RangeIndex: 1500 entries, 0 to 1499\n",
      "Data columns (total 16 columns):\n",
      " #   Column  Non-Null Count  Dtype  \n",
      "---  ------  --------------  -----  \n",
      " 0   F1      1500 non-null   int64  \n",
      " 1   F2      1500 non-null   float64\n",
      " 2   F3      1500 non-null   float64\n",
      " 3   F4      1500 non-null   float64\n",
      " 4   F5      1500 non-null   float64\n",
      " 5   F6      1500 non-null   float64\n",
      " 6   F7      1500 non-null   float64\n",
      " 7   F8      1500 non-null   float64\n",
      " 8   F9      1500 non-null   float64\n",
      " 9   F10     1500 non-null   float64\n",
      " 10  F11     1500 non-null   float64\n",
      " 11  F12     1500 non-null   float64\n",
      " 12  F13     1500 non-null   float64\n",
      " 13  F14     1500 non-null   int64  \n",
      " 14  F15     750 non-null    float64\n",
      " 15  Class   1500 non-null   bool   \n",
      "dtypes: bool(1), float64(13), int64(2)\n",
      "memory usage: 177.4 KB\n"
     ]
    }
   ],
   "source": [
    "data.info()"
   ]
  },
  {
   "cell_type": "code",
   "execution_count": 27,
   "metadata": {},
   "outputs": [
    {
     "data": {
      "text/plain": [
       "F1         0\n",
       "F2         0\n",
       "F3         0\n",
       "F4         0\n",
       "F5         0\n",
       "F6         0\n",
       "F7         0\n",
       "F8         0\n",
       "F9         0\n",
       "F10        0\n",
       "F11        0\n",
       "F12        0\n",
       "F13        0\n",
       "F14        0\n",
       "F15      750\n",
       "Class      0\n",
       "dtype: int64"
      ]
     },
     "execution_count": 27,
     "metadata": {},
     "output_type": "execute_result"
    }
   ],
   "source": [
    "#Check Null Values\n",
    "data.isnull().sum()"
   ]
  },
  {
   "cell_type": "markdown",
   "metadata": {},
   "source": [
    "##### Missing Values Imputation"
   ]
  },
  {
   "cell_type": "code",
   "execution_count": 28,
   "metadata": {},
   "outputs": [
    {
     "name": "stdout",
     "output_type": "stream",
     "text": [
      "      F1      F2     F3     F4     F5      F6    F7    F8     F9   F10    F11  \\\n",
      "0     30  186.88 -21.06 -17.68  14.20  563.22 -3.29 -5.32 -18.90  9.20  -9.44   \n",
      "1     30  196.88 -22.89 -19.38  19.70  353.22 -5.71 -1.48 -18.33  7.15  -8.58   \n",
      "2     30   96.88 -19.65 -16.46  17.30  398.22 -5.19 -1.96 -14.64  7.10  -9.18   \n",
      "3      3  216.88 -33.24 -27.80   0.84  344.22 -0.86 -6.89 -14.73  0.09 -17.98   \n",
      "4      3  198.88 -32.52 -26.26   1.52  278.22  0.08 -7.73 -13.62  1.91 -23.94   \n",
      "...   ..     ...    ...    ...    ...     ...   ...   ...    ...   ...    ...   \n",
      "1495  30  266.88 -18.69 -17.30  14.70  383.22 -4.94 -3.05  -9.78  5.95 -14.20   \n",
      "1496  30  206.88 -22.35 -18.00  12.30  428.22 -3.27 -3.48  -8.46  9.20 -11.56   \n",
      "1497  30  106.88 -17.91 -17.48  13.50  623.22 -5.96 -2.59 -13.89  9.40  -7.06   \n",
      "1498  30  336.88 -23.73 -18.68  17.60  503.22 -5.01 -3.72  -7.98  6.50  -8.60   \n",
      "1499   3  218.88 -34.08 -26.14   1.18  335.22  0.77 -7.68 -15.21  1.43 -25.30   \n",
      "\n",
      "        F12    F13  F14       F15  Class  \n",
      "0     10.89  -8.54  510  7.903013  False  \n",
      "1     15.89  -8.44  760  7.220000  False  \n",
      "2     20.89  -8.79  610  7.690000  False  \n",
      "3      7.89  -3.78   32  7.903013  False  \n",
      "4      7.89  -3.25   36  7.903013   True  \n",
      "...     ...    ...  ...       ...    ...  \n",
      "1495  20.89  -9.29  110  9.380000   True  \n",
      "1496  30.89  -8.44  260  6.520000  False  \n",
      "1497  20.89 -11.79  370  7.903013   True  \n",
      "1498  30.89  -8.04  250  7.903013  False  \n",
      "1499   9.89  -2.86   16  7.960000   True  \n",
      "\n",
      "[1500 rows x 16 columns]\n"
     ]
    }
   ],
   "source": [
    "# filling data\n",
    "data['F15'] = data['F15'].fillna(data['F15'].mean()) \n",
    "print(data)"
   ]
  },
  {
   "cell_type": "markdown",
   "metadata": {},
   "source": [
    "##### Create X and Y Metrics"
   ]
  },
  {
   "cell_type": "code",
   "execution_count": 29,
   "metadata": {},
   "outputs": [],
   "source": [
    "x=data.drop('Class', axis=1)\n",
    "y=data['Class']"
   ]
  },
  {
   "cell_type": "code",
   "execution_count": 30,
   "metadata": {},
   "outputs": [
    {
     "data": {
      "text/plain": [
       "((1500, 15), (1500,))"
      ]
     },
     "execution_count": 30,
     "metadata": {},
     "output_type": "execute_result"
    }
   ],
   "source": [
    "x.shape,y.shape"
   ]
  },
  {
   "cell_type": "markdown",
   "metadata": {},
   "source": [
    "##### Data Split"
   ]
  },
  {
   "cell_type": "code",
   "execution_count": 31,
   "metadata": {},
   "outputs": [],
   "source": [
    "from sklearn.model_selection import train_test_split\n",
    "X_train, X_test, y_train, y_test = train_test_split(x, y, test_size=0.2, random_state=0)"
   ]
  },
  {
   "cell_type": "code",
   "execution_count": 32,
   "metadata": {},
   "outputs": [
    {
     "name": "stderr",
     "output_type": "stream",
     "text": [
      "C:\\Users\\user\\miniconda3\\envs\\ce802\\lib\\site-packages\\sklearn\\preprocessing\\data.py:645: DataConversionWarning: Data with input dtype int64, float64 were all converted to float64 by StandardScaler.\n",
      "  return self.partial_fit(X, y)\n",
      "C:\\Users\\user\\miniconda3\\envs\\ce802\\lib\\site-packages\\sklearn\\base.py:464: DataConversionWarning: Data with input dtype int64, float64 were all converted to float64 by StandardScaler.\n",
      "  return self.fit(X, **fit_params).transform(X)\n"
     ]
    },
    {
     "data": {
      "text/plain": [
       "(1200, 15)"
      ]
     },
     "execution_count": 32,
     "metadata": {},
     "output_type": "execute_result"
    }
   ],
   "source": [
    "from sklearn import preprocessing \n",
    "from sklearn.preprocessing import StandardScaler\n",
    "\n",
    "X_train=StandardScaler(with_mean=False).fit_transform(X_train)\n",
    "X_train.shape"
   ]
  },
  {
   "cell_type": "code",
   "execution_count": 33,
   "metadata": {},
   "outputs": [
    {
     "name": "stderr",
     "output_type": "stream",
     "text": [
      "C:\\Users\\user\\miniconda3\\envs\\ce802\\lib\\site-packages\\sklearn\\preprocessing\\data.py:645: DataConversionWarning: Data with input dtype int64, float64 were all converted to float64 by StandardScaler.\n",
      "  return self.partial_fit(X, y)\n",
      "C:\\Users\\user\\miniconda3\\envs\\ce802\\lib\\site-packages\\sklearn\\base.py:464: DataConversionWarning: Data with input dtype int64, float64 were all converted to float64 by StandardScaler.\n",
      "  return self.fit(X, **fit_params).transform(X)\n"
     ]
    },
    {
     "data": {
      "text/plain": [
       "(300, 15)"
      ]
     },
     "execution_count": 33,
     "metadata": {},
     "output_type": "execute_result"
    }
   ],
   "source": [
    "X_test=StandardScaler(with_mean=False).fit_transform(X_test)\n",
    "X_test.shape"
   ]
  },
  {
   "cell_type": "markdown",
   "metadata": {},
   "source": [
    "# Testing the model with new data"
   ]
  },
  {
   "cell_type": "code",
   "execution_count": 47,
   "metadata": {},
   "outputs": [],
   "source": [
    "test = pd.read_csv(\"D:\\\\Machine Learning\\CE802_P2_Data\\CE802_P2_Test.csv\")"
   ]
  },
  {
   "cell_type": "code",
   "execution_count": 48,
   "metadata": {},
   "outputs": [
    {
     "data": {
      "text/html": [
       "<div>\n",
       "<style scoped>\n",
       "    .dataframe tbody tr th:only-of-type {\n",
       "        vertical-align: middle;\n",
       "    }\n",
       "\n",
       "    .dataframe tbody tr th {\n",
       "        vertical-align: top;\n",
       "    }\n",
       "\n",
       "    .dataframe thead th {\n",
       "        text-align: right;\n",
       "    }\n",
       "</style>\n",
       "<table border=\"1\" class=\"dataframe\">\n",
       "  <thead>\n",
       "    <tr style=\"text-align: right;\">\n",
       "      <th></th>\n",
       "      <th>F1</th>\n",
       "      <th>F2</th>\n",
       "      <th>F3</th>\n",
       "      <th>F4</th>\n",
       "      <th>F5</th>\n",
       "      <th>F6</th>\n",
       "      <th>F7</th>\n",
       "      <th>F8</th>\n",
       "      <th>F9</th>\n",
       "      <th>F10</th>\n",
       "      <th>F11</th>\n",
       "      <th>F12</th>\n",
       "      <th>F13</th>\n",
       "      <th>F14</th>\n",
       "      <th>F15</th>\n",
       "      <th>Class</th>\n",
       "    </tr>\n",
       "  </thead>\n",
       "  <tbody>\n",
       "    <tr>\n",
       "      <th>0</th>\n",
       "      <td>0</td>\n",
       "      <td>196.88</td>\n",
       "      <td>-39.51</td>\n",
       "      <td>-24.76</td>\n",
       "      <td>1.80</td>\n",
       "      <td>284.22</td>\n",
       "      <td>-0.26</td>\n",
       "      <td>-9.05</td>\n",
       "      <td>-20.55</td>\n",
       "      <td>1.17</td>\n",
       "      <td>-22.02</td>\n",
       "      <td>7.89</td>\n",
       "      <td>-3.38</td>\n",
       "      <td>2</td>\n",
       "      <td>NaN</td>\n",
       "      <td>NaN</td>\n",
       "    </tr>\n",
       "    <tr>\n",
       "      <th>1</th>\n",
       "      <td>3</td>\n",
       "      <td>196.88</td>\n",
       "      <td>-31.74</td>\n",
       "      <td>-31.54</td>\n",
       "      <td>1.48</td>\n",
       "      <td>368.22</td>\n",
       "      <td>-0.90</td>\n",
       "      <td>-6.35</td>\n",
       "      <td>-12.63</td>\n",
       "      <td>1.64</td>\n",
       "      <td>-18.34</td>\n",
       "      <td>7.89</td>\n",
       "      <td>-3.77</td>\n",
       "      <td>10</td>\n",
       "      <td>8.81</td>\n",
       "      <td>NaN</td>\n",
       "    </tr>\n",
       "    <tr>\n",
       "      <th>2</th>\n",
       "      <td>3</td>\n",
       "      <td>160.88</td>\n",
       "      <td>-33.09</td>\n",
       "      <td>-25.76</td>\n",
       "      <td>1.74</td>\n",
       "      <td>329.22</td>\n",
       "      <td>1.45</td>\n",
       "      <td>-6.55</td>\n",
       "      <td>-18.33</td>\n",
       "      <td>1.30</td>\n",
       "      <td>-19.48</td>\n",
       "      <td>7.89</td>\n",
       "      <td>-3.51</td>\n",
       "      <td>98</td>\n",
       "      <td>NaN</td>\n",
       "      <td>NaN</td>\n",
       "    </tr>\n",
       "    <tr>\n",
       "      <th>3</th>\n",
       "      <td>30</td>\n",
       "      <td>206.88</td>\n",
       "      <td>-20.19</td>\n",
       "      <td>-24.48</td>\n",
       "      <td>13.50</td>\n",
       "      <td>563.22</td>\n",
       "      <td>-3.24</td>\n",
       "      <td>-2.30</td>\n",
       "      <td>-13.56</td>\n",
       "      <td>5.50</td>\n",
       "      <td>-8.58</td>\n",
       "      <td>30.89</td>\n",
       "      <td>-9.49</td>\n",
       "      <td>270</td>\n",
       "      <td>NaN</td>\n",
       "      <td>NaN</td>\n",
       "    </tr>\n",
       "    <tr>\n",
       "      <th>4</th>\n",
       "      <td>3</td>\n",
       "      <td>218.88</td>\n",
       "      <td>-33.51</td>\n",
       "      <td>-33.38</td>\n",
       "      <td>0.68</td>\n",
       "      <td>263.22</td>\n",
       "      <td>1.41</td>\n",
       "      <td>-6.80</td>\n",
       "      <td>-22.26</td>\n",
       "      <td>1.01</td>\n",
       "      <td>-22.90</td>\n",
       "      <td>7.89</td>\n",
       "      <td>-3.56</td>\n",
       "      <td>106</td>\n",
       "      <td>7.28</td>\n",
       "      <td>NaN</td>\n",
       "    </tr>\n",
       "    <tr>\n",
       "      <th>...</th>\n",
       "      <td>...</td>\n",
       "      <td>...</td>\n",
       "      <td>...</td>\n",
       "      <td>...</td>\n",
       "      <td>...</td>\n",
       "      <td>...</td>\n",
       "      <td>...</td>\n",
       "      <td>...</td>\n",
       "      <td>...</td>\n",
       "      <td>...</td>\n",
       "      <td>...</td>\n",
       "      <td>...</td>\n",
       "      <td>...</td>\n",
       "      <td>...</td>\n",
       "      <td>...</td>\n",
       "      <td>...</td>\n",
       "    </tr>\n",
       "    <tr>\n",
       "      <th>1495</th>\n",
       "      <td>30</td>\n",
       "      <td>26.88</td>\n",
       "      <td>-29.04</td>\n",
       "      <td>-21.62</td>\n",
       "      <td>10.60</td>\n",
       "      <td>758.22</td>\n",
       "      <td>-2.31</td>\n",
       "      <td>-4.86</td>\n",
       "      <td>-13.95</td>\n",
       "      <td>6.80</td>\n",
       "      <td>-15.76</td>\n",
       "      <td>20.89</td>\n",
       "      <td>-8.29</td>\n",
       "      <td>120</td>\n",
       "      <td>NaN</td>\n",
       "      <td>NaN</td>\n",
       "    </tr>\n",
       "    <tr>\n",
       "      <th>1496</th>\n",
       "      <td>0</td>\n",
       "      <td>202.88</td>\n",
       "      <td>-37.32</td>\n",
       "      <td>-25.78</td>\n",
       "      <td>0.36</td>\n",
       "      <td>371.22</td>\n",
       "      <td>2.04</td>\n",
       "      <td>-9.52</td>\n",
       "      <td>-16.05</td>\n",
       "      <td>1.17</td>\n",
       "      <td>-26.78</td>\n",
       "      <td>7.89</td>\n",
       "      <td>-3.70</td>\n",
       "      <td>24</td>\n",
       "      <td>7.77</td>\n",
       "      <td>NaN</td>\n",
       "    </tr>\n",
       "    <tr>\n",
       "      <th>1497</th>\n",
       "      <td>30</td>\n",
       "      <td>16.88</td>\n",
       "      <td>-27.69</td>\n",
       "      <td>-23.38</td>\n",
       "      <td>10.50</td>\n",
       "      <td>683.22</td>\n",
       "      <td>-2.46</td>\n",
       "      <td>-3.86</td>\n",
       "      <td>-21.75</td>\n",
       "      <td>8.40</td>\n",
       "      <td>-12.52</td>\n",
       "      <td>10.89</td>\n",
       "      <td>-8.39</td>\n",
       "      <td>160</td>\n",
       "      <td>7.16</td>\n",
       "      <td>NaN</td>\n",
       "    </tr>\n",
       "    <tr>\n",
       "      <th>1498</th>\n",
       "      <td>0</td>\n",
       "      <td>174.88</td>\n",
       "      <td>-35.70</td>\n",
       "      <td>-25.64</td>\n",
       "      <td>1.76</td>\n",
       "      <td>239.22</td>\n",
       "      <td>-0.64</td>\n",
       "      <td>-7.08</td>\n",
       "      <td>-12.57</td>\n",
       "      <td>1.70</td>\n",
       "      <td>-17.44</td>\n",
       "      <td>7.89</td>\n",
       "      <td>-3.29</td>\n",
       "      <td>40</td>\n",
       "      <td>NaN</td>\n",
       "      <td>NaN</td>\n",
       "    </tr>\n",
       "    <tr>\n",
       "      <th>1499</th>\n",
       "      <td>30</td>\n",
       "      <td>146.88</td>\n",
       "      <td>-17.13</td>\n",
       "      <td>-20.28</td>\n",
       "      <td>15.40</td>\n",
       "      <td>623.22</td>\n",
       "      <td>-0.40</td>\n",
       "      <td>-2.22</td>\n",
       "      <td>-12.60</td>\n",
       "      <td>6.25</td>\n",
       "      <td>-11.50</td>\n",
       "      <td>10.89</td>\n",
       "      <td>-10.24</td>\n",
       "      <td>220</td>\n",
       "      <td>NaN</td>\n",
       "      <td>NaN</td>\n",
       "    </tr>\n",
       "  </tbody>\n",
       "</table>\n",
       "<p>1500 rows × 16 columns</p>\n",
       "</div>"
      ],
      "text/plain": [
       "      F1      F2     F3     F4     F5      F6    F7    F8     F9   F10    F11  \\\n",
       "0      0  196.88 -39.51 -24.76   1.80  284.22 -0.26 -9.05 -20.55  1.17 -22.02   \n",
       "1      3  196.88 -31.74 -31.54   1.48  368.22 -0.90 -6.35 -12.63  1.64 -18.34   \n",
       "2      3  160.88 -33.09 -25.76   1.74  329.22  1.45 -6.55 -18.33  1.30 -19.48   \n",
       "3     30  206.88 -20.19 -24.48  13.50  563.22 -3.24 -2.30 -13.56  5.50  -8.58   \n",
       "4      3  218.88 -33.51 -33.38   0.68  263.22  1.41 -6.80 -22.26  1.01 -22.90   \n",
       "...   ..     ...    ...    ...    ...     ...   ...   ...    ...   ...    ...   \n",
       "1495  30   26.88 -29.04 -21.62  10.60  758.22 -2.31 -4.86 -13.95  6.80 -15.76   \n",
       "1496   0  202.88 -37.32 -25.78   0.36  371.22  2.04 -9.52 -16.05  1.17 -26.78   \n",
       "1497  30   16.88 -27.69 -23.38  10.50  683.22 -2.46 -3.86 -21.75  8.40 -12.52   \n",
       "1498   0  174.88 -35.70 -25.64   1.76  239.22 -0.64 -7.08 -12.57  1.70 -17.44   \n",
       "1499  30  146.88 -17.13 -20.28  15.40  623.22 -0.40 -2.22 -12.60  6.25 -11.50   \n",
       "\n",
       "        F12    F13  F14   F15  Class  \n",
       "0      7.89  -3.38    2   NaN    NaN  \n",
       "1      7.89  -3.77   10  8.81    NaN  \n",
       "2      7.89  -3.51   98   NaN    NaN  \n",
       "3     30.89  -9.49  270   NaN    NaN  \n",
       "4      7.89  -3.56  106  7.28    NaN  \n",
       "...     ...    ...  ...   ...    ...  \n",
       "1495  20.89  -8.29  120   NaN    NaN  \n",
       "1496   7.89  -3.70   24  7.77    NaN  \n",
       "1497  10.89  -8.39  160  7.16    NaN  \n",
       "1498   7.89  -3.29   40   NaN    NaN  \n",
       "1499  10.89 -10.24  220   NaN    NaN  \n",
       "\n",
       "[1500 rows x 16 columns]"
      ]
     },
     "execution_count": 48,
     "metadata": {},
     "output_type": "execute_result"
    }
   ],
   "source": [
    "test"
   ]
  },
  {
   "cell_type": "markdown",
   "metadata": {},
   "source": [
    "##### Missing Values Imputation"
   ]
  },
  {
   "cell_type": "code",
   "execution_count": 49,
   "metadata": {},
   "outputs": [
    {
     "name": "stdout",
     "output_type": "stream",
     "text": [
      "      F1      F2     F3     F4     F5      F6    F7    F8     F9   F10    F11  \\\n",
      "0      0  196.88 -39.51 -24.76   1.80  284.22 -0.26 -9.05 -20.55  1.17 -22.02   \n",
      "1      3  196.88 -31.74 -31.54   1.48  368.22 -0.90 -6.35 -12.63  1.64 -18.34   \n",
      "2      3  160.88 -33.09 -25.76   1.74  329.22  1.45 -6.55 -18.33  1.30 -19.48   \n",
      "3     30  206.88 -20.19 -24.48  13.50  563.22 -3.24 -2.30 -13.56  5.50  -8.58   \n",
      "4      3  218.88 -33.51 -33.38   0.68  263.22  1.41 -6.80 -22.26  1.01 -22.90   \n",
      "...   ..     ...    ...    ...    ...     ...   ...   ...    ...   ...    ...   \n",
      "1495  30   26.88 -29.04 -21.62  10.60  758.22 -2.31 -4.86 -13.95  6.80 -15.76   \n",
      "1496   0  202.88 -37.32 -25.78   0.36  371.22  2.04 -9.52 -16.05  1.17 -26.78   \n",
      "1497  30   16.88 -27.69 -23.38  10.50  683.22 -2.46 -3.86 -21.75  8.40 -12.52   \n",
      "1498   0  174.88 -35.70 -25.64   1.76  239.22 -0.64 -7.08 -12.57  1.70 -17.44   \n",
      "1499  30  146.88 -17.13 -20.28  15.40  623.22 -0.40 -2.22 -12.60  6.25 -11.50   \n",
      "\n",
      "        F12    F13  F14       F15  Class  \n",
      "0      7.89  -3.38    2  7.936347    NaN  \n",
      "1      7.89  -3.77   10  8.810000    NaN  \n",
      "2      7.89  -3.51   98  7.936347    NaN  \n",
      "3     30.89  -9.49  270  7.936347    NaN  \n",
      "4      7.89  -3.56  106  7.280000    NaN  \n",
      "...     ...    ...  ...       ...    ...  \n",
      "1495  20.89  -8.29  120  7.936347    NaN  \n",
      "1496   7.89  -3.70   24  7.770000    NaN  \n",
      "1497  10.89  -8.39  160  7.160000    NaN  \n",
      "1498   7.89  -3.29   40  7.936347    NaN  \n",
      "1499  10.89 -10.24  220  7.936347    NaN  \n",
      "\n",
      "[1500 rows x 16 columns]\n"
     ]
    }
   ],
   "source": [
    "test['F15'] = test['F15'].fillna(test['F15'].mean()) \n",
    "print(test)"
   ]
  },
  {
   "cell_type": "code",
   "execution_count": 50,
   "metadata": {},
   "outputs": [],
   "source": [
    "del test['Class']"
   ]
  },
  {
   "cell_type": "markdown",
   "metadata": {},
   "source": [
    "# Using Random Forest Classifier for Testing the data"
   ]
  },
  {
   "cell_type": "code",
   "execution_count": 51,
   "metadata": {},
   "outputs": [
    {
     "data": {
      "text/plain": [
       "RandomForestClassifier(bootstrap=True, class_weight=None, criterion='gini',\n",
       "            max_depth=None, max_features='auto', max_leaf_nodes=None,\n",
       "            min_impurity_decrease=0.0, min_impurity_split=None,\n",
       "            min_samples_leaf=1, min_samples_split=2,\n",
       "            min_weight_fraction_leaf=0.0, n_estimators=20, n_jobs=None,\n",
       "            oob_score=False, random_state=0, verbose=0, warm_start=False)"
      ]
     },
     "execution_count": 51,
     "metadata": {},
     "output_type": "execute_result"
    }
   ],
   "source": [
    "from sklearn.ensemble import RandomForestClassifier"
   ]
  },
  {
   "cell_type": "markdown",
   "metadata": {},
   "source": [
    "##### Instantiate Random Forest Classifier"
   ]
  },
  {
   "cell_type": "code",
   "execution_count": null,
   "metadata": {},
   "outputs": [],
   "source": [
    "rfclassifier = RandomForestClassifier(n_estimators=40, min_samples_split= 10, max_features= 'auto', max_depth= 5)"
   ]
  },
  {
   "cell_type": "markdown",
   "metadata": {},
   "source": [
    "##### Fit the Random Forest to the training data"
   ]
  },
  {
   "cell_type": "code",
   "execution_count": 61,
   "metadata": {},
   "outputs": [
    {
     "data": {
      "text/plain": [
       "RandomForestClassifier(bootstrap=True, class_weight=None, criterion='gini',\n",
       "            max_depth=None, max_features='auto', max_leaf_nodes=None,\n",
       "            min_impurity_decrease=0.0, min_impurity_split=None,\n",
       "            min_samples_leaf=1, min_samples_split=2,\n",
       "            min_weight_fraction_leaf=0.0, n_estimators=20, n_jobs=None,\n",
       "            oob_score=False, random_state=0, verbose=0, warm_start=False)"
      ]
     },
     "execution_count": 61,
     "metadata": {},
     "output_type": "execute_result"
    }
   ],
   "source": [
    "rfclassifier.fit(X_train,y_train)"
   ]
  },
  {
   "cell_type": "code",
   "execution_count": 52,
   "metadata": {},
   "outputs": [
    {
     "name": "stderr",
     "output_type": "stream",
     "text": [
      "C:\\Users\\user\\miniconda3\\envs\\ce802\\lib\\site-packages\\sklearn\\preprocessing\\data.py:645: DataConversionWarning: Data with input dtype int64, float64 were all converted to float64 by StandardScaler.\n",
      "  return self.partial_fit(X, y)\n",
      "C:\\Users\\user\\miniconda3\\envs\\ce802\\lib\\site-packages\\sklearn\\base.py:464: DataConversionWarning: Data with input dtype int64, float64 were all converted to float64 by StandardScaler.\n",
      "  return self.fit(X, **fit_params).transform(X)\n"
     ]
    }
   ],
   "source": [
    "##Data Standardizing\n",
    "test_std=StandardScaler(with_mean=False).fit_transform(test)"
   ]
  },
  {
   "cell_type": "markdown",
   "metadata": {},
   "source": [
    "##### Do prediction using our test data"
   ]
  },
  {
   "cell_type": "code",
   "execution_count": 53,
   "metadata": {},
   "outputs": [],
   "source": [
    "final_pred = rfclassifier.predict(test_std)"
   ]
  },
  {
   "cell_type": "code",
   "execution_count": 54,
   "metadata": {},
   "outputs": [
    {
     "data": {
      "text/plain": [
       "array([ True,  True,  True, ..., False, False,  True])"
      ]
     },
     "execution_count": 54,
     "metadata": {},
     "output_type": "execute_result"
    }
   ],
   "source": [
    "final_pred"
   ]
  },
  {
   "cell_type": "code",
   "execution_count": 55,
   "metadata": {},
   "outputs": [
    {
     "data": {
      "text/html": [
       "<div>\n",
       "<style scoped>\n",
       "    .dataframe tbody tr th:only-of-type {\n",
       "        vertical-align: middle;\n",
       "    }\n",
       "\n",
       "    .dataframe tbody tr th {\n",
       "        vertical-align: top;\n",
       "    }\n",
       "\n",
       "    .dataframe thead th {\n",
       "        text-align: right;\n",
       "    }\n",
       "</style>\n",
       "<table border=\"1\" class=\"dataframe\">\n",
       "  <thead>\n",
       "    <tr style=\"text-align: right;\">\n",
       "      <th></th>\n",
       "      <th>0</th>\n",
       "    </tr>\n",
       "  </thead>\n",
       "  <tbody>\n",
       "    <tr>\n",
       "      <th>0</th>\n",
       "      <td>True</td>\n",
       "    </tr>\n",
       "    <tr>\n",
       "      <th>1</th>\n",
       "      <td>True</td>\n",
       "    </tr>\n",
       "    <tr>\n",
       "      <th>2</th>\n",
       "      <td>True</td>\n",
       "    </tr>\n",
       "    <tr>\n",
       "      <th>3</th>\n",
       "      <td>False</td>\n",
       "    </tr>\n",
       "    <tr>\n",
       "      <th>4</th>\n",
       "      <td>False</td>\n",
       "    </tr>\n",
       "    <tr>\n",
       "      <th>...</th>\n",
       "      <td>...</td>\n",
       "    </tr>\n",
       "    <tr>\n",
       "      <th>1495</th>\n",
       "      <td>False</td>\n",
       "    </tr>\n",
       "    <tr>\n",
       "      <th>1496</th>\n",
       "      <td>False</td>\n",
       "    </tr>\n",
       "    <tr>\n",
       "      <th>1497</th>\n",
       "      <td>False</td>\n",
       "    </tr>\n",
       "    <tr>\n",
       "      <th>1498</th>\n",
       "      <td>False</td>\n",
       "    </tr>\n",
       "    <tr>\n",
       "      <th>1499</th>\n",
       "      <td>True</td>\n",
       "    </tr>\n",
       "  </tbody>\n",
       "</table>\n",
       "<p>1500 rows × 1 columns</p>\n",
       "</div>"
      ],
      "text/plain": [
       "          0\n",
       "0      True\n",
       "1      True\n",
       "2      True\n",
       "3     False\n",
       "4     False\n",
       "...     ...\n",
       "1495  False\n",
       "1496  False\n",
       "1497  False\n",
       "1498  False\n",
       "1499   True\n",
       "\n",
       "[1500 rows x 1 columns]"
      ]
     },
     "execution_count": 55,
     "metadata": {},
     "output_type": "execute_result"
    }
   ],
   "source": [
    "finaldata=pd.DataFrame(final_pred)\n",
    "finaldata"
   ]
  },
  {
   "cell_type": "code",
   "execution_count": 56,
   "metadata": {},
   "outputs": [],
   "source": [
    "finaldata.columns=['Class']"
   ]
  },
  {
   "cell_type": "code",
   "execution_count": 57,
   "metadata": {},
   "outputs": [
    {
     "data": {
      "text/plain": [
       "False    888\n",
       "True     612\n",
       "Name: Class, dtype: int64"
      ]
     },
     "execution_count": 57,
     "metadata": {},
     "output_type": "execute_result"
    }
   ],
   "source": [
    "finaldata['Class'].value_counts()"
   ]
  },
  {
   "cell_type": "code",
   "execution_count": 58,
   "metadata": {},
   "outputs": [],
   "source": [
    "test['Class']=finaldata['Class']"
   ]
  },
  {
   "cell_type": "code",
   "execution_count": 59,
   "metadata": {},
   "outputs": [
    {
     "data": {
      "text/html": [
       "<div>\n",
       "<style scoped>\n",
       "    .dataframe tbody tr th:only-of-type {\n",
       "        vertical-align: middle;\n",
       "    }\n",
       "\n",
       "    .dataframe tbody tr th {\n",
       "        vertical-align: top;\n",
       "    }\n",
       "\n",
       "    .dataframe thead th {\n",
       "        text-align: right;\n",
       "    }\n",
       "</style>\n",
       "<table border=\"1\" class=\"dataframe\">\n",
       "  <thead>\n",
       "    <tr style=\"text-align: right;\">\n",
       "      <th></th>\n",
       "      <th>F1</th>\n",
       "      <th>F2</th>\n",
       "      <th>F3</th>\n",
       "      <th>F4</th>\n",
       "      <th>F5</th>\n",
       "      <th>F6</th>\n",
       "      <th>F7</th>\n",
       "      <th>F8</th>\n",
       "      <th>F9</th>\n",
       "      <th>F10</th>\n",
       "      <th>F11</th>\n",
       "      <th>F12</th>\n",
       "      <th>F13</th>\n",
       "      <th>F14</th>\n",
       "      <th>F15</th>\n",
       "      <th>Class</th>\n",
       "    </tr>\n",
       "  </thead>\n",
       "  <tbody>\n",
       "    <tr>\n",
       "      <th>0</th>\n",
       "      <td>0</td>\n",
       "      <td>196.88</td>\n",
       "      <td>-39.51</td>\n",
       "      <td>-24.76</td>\n",
       "      <td>1.80</td>\n",
       "      <td>284.22</td>\n",
       "      <td>-0.26</td>\n",
       "      <td>-9.05</td>\n",
       "      <td>-20.55</td>\n",
       "      <td>1.17</td>\n",
       "      <td>-22.02</td>\n",
       "      <td>7.89</td>\n",
       "      <td>-3.38</td>\n",
       "      <td>2</td>\n",
       "      <td>7.936347</td>\n",
       "      <td>True</td>\n",
       "    </tr>\n",
       "    <tr>\n",
       "      <th>1</th>\n",
       "      <td>3</td>\n",
       "      <td>196.88</td>\n",
       "      <td>-31.74</td>\n",
       "      <td>-31.54</td>\n",
       "      <td>1.48</td>\n",
       "      <td>368.22</td>\n",
       "      <td>-0.90</td>\n",
       "      <td>-6.35</td>\n",
       "      <td>-12.63</td>\n",
       "      <td>1.64</td>\n",
       "      <td>-18.34</td>\n",
       "      <td>7.89</td>\n",
       "      <td>-3.77</td>\n",
       "      <td>10</td>\n",
       "      <td>8.810000</td>\n",
       "      <td>True</td>\n",
       "    </tr>\n",
       "    <tr>\n",
       "      <th>2</th>\n",
       "      <td>3</td>\n",
       "      <td>160.88</td>\n",
       "      <td>-33.09</td>\n",
       "      <td>-25.76</td>\n",
       "      <td>1.74</td>\n",
       "      <td>329.22</td>\n",
       "      <td>1.45</td>\n",
       "      <td>-6.55</td>\n",
       "      <td>-18.33</td>\n",
       "      <td>1.30</td>\n",
       "      <td>-19.48</td>\n",
       "      <td>7.89</td>\n",
       "      <td>-3.51</td>\n",
       "      <td>98</td>\n",
       "      <td>7.936347</td>\n",
       "      <td>True</td>\n",
       "    </tr>\n",
       "    <tr>\n",
       "      <th>3</th>\n",
       "      <td>30</td>\n",
       "      <td>206.88</td>\n",
       "      <td>-20.19</td>\n",
       "      <td>-24.48</td>\n",
       "      <td>13.50</td>\n",
       "      <td>563.22</td>\n",
       "      <td>-3.24</td>\n",
       "      <td>-2.30</td>\n",
       "      <td>-13.56</td>\n",
       "      <td>5.50</td>\n",
       "      <td>-8.58</td>\n",
       "      <td>30.89</td>\n",
       "      <td>-9.49</td>\n",
       "      <td>270</td>\n",
       "      <td>7.936347</td>\n",
       "      <td>False</td>\n",
       "    </tr>\n",
       "    <tr>\n",
       "      <th>4</th>\n",
       "      <td>3</td>\n",
       "      <td>218.88</td>\n",
       "      <td>-33.51</td>\n",
       "      <td>-33.38</td>\n",
       "      <td>0.68</td>\n",
       "      <td>263.22</td>\n",
       "      <td>1.41</td>\n",
       "      <td>-6.80</td>\n",
       "      <td>-22.26</td>\n",
       "      <td>1.01</td>\n",
       "      <td>-22.90</td>\n",
       "      <td>7.89</td>\n",
       "      <td>-3.56</td>\n",
       "      <td>106</td>\n",
       "      <td>7.280000</td>\n",
       "      <td>False</td>\n",
       "    </tr>\n",
       "  </tbody>\n",
       "</table>\n",
       "</div>"
      ],
      "text/plain": [
       "   F1      F2     F3     F4     F5      F6    F7    F8     F9   F10    F11  \\\n",
       "0   0  196.88 -39.51 -24.76   1.80  284.22 -0.26 -9.05 -20.55  1.17 -22.02   \n",
       "1   3  196.88 -31.74 -31.54   1.48  368.22 -0.90 -6.35 -12.63  1.64 -18.34   \n",
       "2   3  160.88 -33.09 -25.76   1.74  329.22  1.45 -6.55 -18.33  1.30 -19.48   \n",
       "3  30  206.88 -20.19 -24.48  13.50  563.22 -3.24 -2.30 -13.56  5.50  -8.58   \n",
       "4   3  218.88 -33.51 -33.38   0.68  263.22  1.41 -6.80 -22.26  1.01 -22.90   \n",
       "\n",
       "     F12   F13  F14       F15  Class  \n",
       "0   7.89 -3.38    2  7.936347   True  \n",
       "1   7.89 -3.77   10  8.810000   True  \n",
       "2   7.89 -3.51   98  7.936347   True  \n",
       "3  30.89 -9.49  270  7.936347  False  \n",
       "4   7.89 -3.56  106  7.280000  False  "
      ]
     },
     "execution_count": 59,
     "metadata": {},
     "output_type": "execute_result"
    }
   ],
   "source": [
    "test.head()"
   ]
  },
  {
   "cell_type": "markdown",
   "metadata": {},
   "source": [
    "##### Generate Test Data CSV"
   ]
  },
  {
   "cell_type": "code",
   "execution_count": 60,
   "metadata": {},
   "outputs": [],
   "source": [
    "CE802_P2_Test= test.to_csv(r'D:\\Machine Learning\\CE802_P2_Data\\Test Output\\CE802_P2_Test.csv')"
   ]
  }
 ],
 "metadata": {
  "kernelspec": {
   "display_name": "Python 3",
   "language": "python",
   "name": "python3"
  },
  "language_info": {
   "codemirror_mode": {
    "name": "ipython",
    "version": 3
   },
   "file_extension": ".py",
   "mimetype": "text/x-python",
   "name": "python",
   "nbconvert_exporter": "python",
   "pygments_lexer": "ipython3",
   "version": "3.7.9"
  }
 },
 "nbformat": 4,
 "nbformat_minor": 4
}
